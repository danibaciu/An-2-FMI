{
 "nbformat": 4,
 "nbformat_minor": 0,
 "metadata": {
  "colab": {
   "name": "Laborator 1 (intro).ipynb",
   "provenance": [],
   "collapsed_sections": []
  },
  "kernelspec": {
   "name": "python3",
   "display_name": "Python 3"
  },
  "language_info": {
   "name": "python"
  }
 },
 "cells": [
  {
   "cell_type": "markdown",
   "source": [
    "# Intro / recapitulare clase Python"
   ],
   "metadata": {
    "id": "kJum58E0tixa"
   }
  },
  {
   "cell_type": "code",
   "execution_count": null,
   "outputs": [],
   "source": [
    "import random\n",
    "import time"
   ],
   "metadata": {
    "collapsed": false,
    "pycharm": {
     "name": "#%%\n"
    }
   }
  },
  {
   "cell_type": "code",
   "execution_count": null,
   "outputs": [
    {
     "output_type": "stream",
     "name": "stdout",
     "text": [
      "Am creat dreptunghiul d1=Dreptunghi(5,10,'.')\n",
      "Ce afiseaza print(d1)\n",
      "##########\n",
      "#........#\n",
      "#........#\n",
      "#........#\n",
      "##########\n",
      "\n",
      "Ce afiseaza print(str(d1))\n",
      "##########\n",
      "#........#\n",
      "#........#\n",
      "#........#\n",
      "##########\n",
      "\n",
      "Ce afiseaza print(repr(d1))\n",
      "Prop instanta:\n",
      "inaltime = 5\n",
      "latime = 10\n",
      "simbolContinut = .\n",
      "simbolContur = #\n",
      "\n",
      "---------------\n",
      "---------------\n",
      "Simbol separator: -\n",
      "Nume clasa:\n",
      "Dreptunghi\n",
      "Informatii clasa:\n",
      "O clasa care memoreaza un dreptunghi format din caractere\n",
      "Am creat harta h=HartaJoc('campie',5,10,'.')\n",
      "Ce afiseaza print(h)\n",
      "##########\n",
      "#........#\n",
      "#........#\n",
      "#........#\n",
      "##########\n",
      "\n",
      "Ce afiseaza print(repr(h))\n",
      "Prop instanta:\n",
      "inaltime = 5\n",
      "latime = 10\n",
      "simbolContinut = .\n",
      "simbolContur = #\n",
      "nume = campie\n",
      "\n"
     ]
    }
   ],
   "source": [
    "class Dreptunghi:\n",
    "    \"\"\"O clasa care memoreaza un dreptunghi format din caractere\"\"\"\n",
    "    #atribute de clasa (statice)\n",
    "    liniiSeparatoare=True\n",
    "    simbolSeparator=\"-\"\n",
    "    dimLinieSeparatoare=15\n",
    "\n",
    "\n",
    "    def __init__(self, inaltime, latime, simbolContinut, simbolContur=None):\n",
    "        #atribute de instanta\n",
    "        self.inaltime = inaltime\n",
    "        self.latime = latime\n",
    "        self.simbolContinut = simbolContinut\n",
    "        self.simbolContur = \"#\" if simbolContur is None else simbolContur\n",
    "\n",
    "    def arie(self):\n",
    "        return self.inaltime*self.latime\n",
    "\n",
    "    @classmethod\n",
    "    def afisSimbolContur(cls):\n",
    "        print('Simbol separator: '+ cls.simbolSeparator)\n",
    "\n",
    "    @classmethod\n",
    "    def afisNumeClasa(cls):\n",
    "        print('Nume clasa:\\n'+ cls.__name__)\n",
    "\n",
    "\n",
    "    @classmethod\n",
    "    def afisDoc(cls):\n",
    "        print('Informatii clasa:\\n'+ cls.__doc__)\n",
    "\n",
    "\n",
    "\n",
    "\n",
    "\n",
    "    @staticmethod\n",
    "    def afisLinie(n,simbol):\n",
    "        print(n*simbol)\n",
    "\n",
    "\n",
    "    #operatori\n",
    "\n",
    "    def __eq__(self, dr):\n",
    "        return (self.inaltime==dr.inaltime and self.latime==dr.latime)\n",
    "\n",
    "    #observati ca nu trebuie sa ne raportam la aceleasi criterii, chiar daca in general nu este indicat\n",
    "    def __lt__(self, dr):\n",
    "        return self.arie()<dr.arie()\n",
    "\n",
    "\n",
    "    def __lte__(self, dr):\n",
    "        return self.arie()<=dr.arie()\n",
    "\n",
    "    def __gt__(self, dr):\n",
    "        return self.arie()>dr.arie()\n",
    "\n",
    "\n",
    "\n",
    "\n",
    "\n",
    "    #definesc ce va returna repr(obiect)\n",
    "    def __repr__(self):\n",
    "        sir=\"Prop clasa:\\n\"\n",
    "        for (k,v) in self.__class__.__dict__.items() :\n",
    "            sir+=\"{} = {}\\n\".format(k,v)\n",
    "        sir=\"Prop instanta:\\n\"\n",
    "        for (k,v) in self.__dict__.items() :\n",
    "            sir+=\"{} = {}\\n\".format(k,v)\n",
    "        return(sir)\n",
    "\n",
    "    #definesc ce va returna str(obiect)\n",
    "    def __str__(self):\n",
    "        sir=self.simbolContur*self.latime+\"\\n\";\n",
    "        for i in range(self.inaltime-2):\n",
    "            sir+=self.simbolContur+self.simbolContinut*(self.latime-2)+self.simbolContur+\"\\n\"\n",
    "        sir+=self.simbolContur*self.latime+\"\\n\"\n",
    "        return(sir)\n",
    "\n",
    "    def afis(self):\n",
    "        if (self.liniiSeparatoare):\n",
    "            self.afisLinie(self.dimLinieSeparatoare,self.simbolSeparator)\n",
    "        # print(d)\n",
    "        if (self.liniiSeparatoare):\n",
    "            self.afisLinie(self.dimLinieSeparatoare,self.simbolSeparator)\n",
    "\n",
    "\n",
    "\n",
    "class Secventa:\n",
    "    secventa=0\n",
    "    def __init__(self):\n",
    "        type(self).secventa+=1\n",
    "\n",
    "\n",
    "class HartaJoc(Dreptunghi,Secventa):\n",
    "\n",
    "    simbolObstacol=\"@\"\n",
    "    _matrice=[]\n",
    "\n",
    "    def __init__(self,nume,inaltime, latime, simbolContinut, simbolContur=None):\n",
    "        Dreptunghi.__init__(self,inaltime, latime, simbolContinut, simbolContur)\n",
    "        Secventa.__init__(self)\n",
    "        sirDr=str(self)\n",
    "        _matrice=[[] for i in range(inaltime)]\n",
    "        self.nume=nume\n",
    "\n",
    "\n",
    "    def afis(self):\n",
    "        if (self.liniiSeparatoare):\n",
    "            self.afisLinie(self.dimLinieSeparatoare,self.simbolSeparator)\n",
    "        for linie in _matrice :\n",
    "            print(linie.join())\n",
    "        if (self.liniiSeparatoare):\n",
    "            self.afisLinie(self.dimLinieSeparatoare,self.simbolSeparator)\n",
    "\n",
    "if __name__==\"__main__\":\n",
    "    d1=Dreptunghi(5,10,'.')\n",
    "    print(\"Am creat dreptunghiul d1=Dreptunghi(5,10,'.')\")\n",
    "    ##########################################\n",
    "    print(\"Ce afiseaza print(d1)\")\n",
    "    print(d1)\n",
    "    ##########################################\n",
    "    print(\"Ce afiseaza print(str(d1))\")\n",
    "    print(str(d1))\n",
    "    ##########################################\n",
    "    print(\"Ce afiseaza print(repr(d1))\")\n",
    "    print(repr(d1))\n",
    "\n",
    "    d1.afis()\n",
    "    ##########################################\n",
    "    d2=Dreptunghi(4,4,'.')\n",
    "    ##########################################\n",
    "    Dreptunghi.afisSimbolContur()\n",
    "    Dreptunghi.afisNumeClasa()\n",
    "    Dreptunghi.afisDoc()\n",
    "    ##########################################\n",
    "    print(\"Am creat harta h=HartaJoc('campie',5,10,'.')\")\n",
    "    h=HartaJoc('campie',5,10,'.')\n",
    "    ##########################################\n",
    "    print(\"Ce afiseaza print(h)\")\n",
    "    print(h)\n",
    "    ##########################################\n",
    "    print(\"Ce afiseaza print(repr(h))\")\n",
    "    print(repr(h))"
   ],
   "metadata": {
    "collapsed": false,
    "pycharm": {
     "name": "#%%\n"
    }
   }
  },
  {
   "cell_type": "code",
   "source": [],
   "metadata": {
    "id": "6qZzp9UetoqM"
   },
   "execution_count": null,
   "outputs": []
  },
  {
   "cell_type": "markdown",
   "source": [
    "# Exercitii"
   ],
   "metadata": {
    "id": "-XFCqHfBtqmK"
   }
  },
  {
   "cell_type": "markdown",
   "source": [
    "1. Se considera clasa Elev. Un obiect de tip Elev are urmatoarele proprietati:\n",
    "`nume, sanatate, inteligenta, oboseala, buna_dispozitie`.\n",
    "\n",
    "Clasa Elev va avea un constructor care primeste ca parametri: un sir de caractere, reprezentand numele elevului (in cazul in care nu se da numele in apel, valoarea default este None)si proprietatile elevului cu valorile default: sanatate=90, inteligenta=20, oboseala=0, buna_dispozitie=100. Daca este apelat constructorul fara parametri, atunci se va aloca un nume default noului elev; numele va avea forma Necunoscut_1, Necunoscut_2,...Necunoscut_n... Daca ultimul apel de constructor fara parametri a generat numele Necunoscut_i, atunci urmatorul nume va fi Necunsocut_(i+1).\n",
    "\n",
    "De asemenea, se considera clasa Activitate cu proprietatile:\n",
    "nume, factor_sanatate, factor_inteligenta, factor_oboseala, factor_dispozitie, durata. Clasa Activitate are un constructor cu 6 parametri si nu admite sa fie apelat cu mai putini (deci fara valori implicite). Activitatile vor fi citite dintr-un fisier txt precum cel de mai jos, si vor fi memorate intr-o lista de obiecte de tip Activitate.\n",
    "\n",
    "Fisierul txt de activitati posibile:\n",
    "\n",
    "    nume  factor_sanatate factor_inteligenta factor_oboseala factor_dispozitie durata\n",
    "    invatat              0  7   7 -5  4\n",
    "    baut_cafea          -5 -2   1  3  1\n",
    "    iesit_cu_prietenii   2  1   4 10  3 \n",
    "    alergat              5  0  10  5  2\n",
    "    dormit               3  0 -10  5  4\n",
    "    rebus                0  2   1  2  1\n",
    "    discoteca          -10  0  10 10  3\n",
    "    citit                0  5   3  1  2\n",
    "    relaxare             1  0  -5  3  2\n",
    "    televizor           -4 -2   4  1  1\n",
    "    exercitii_scoala     0 10  10 -7  3 "
   ],
   "metadata": {
    "id": "nsPpbF525WcH"
   }
  },
  {
   "cell_type": "markdown",
   "source": [
    "Un elev poate primi o lista de activitati (puteti opta si sa o initializati in constructor dar nu e obligatoriu) pe care sa le execute, unde tipurile de activitati posibile sunt date in fisierul de mai sus. Un elev poate primi in lista de activitati mai multe activitati de acelasi fel (de exemplu o lista valida este: invatat, citit, relaxare, citit, citit). Lista de activitati va cuprinde obiecte de tip activitate si nu doar numele lor.\n",
    "\n",
    "Clasa `Elev` va avea:\n",
    "\n",
    "- o metoda numita `desfasoara_activitate(activitate)`, care va seta activitatea curenta a unui elev (in cadrul functiei se va seta o proprietate numita `activitate_curenta` la activitatea data ca parametru si o alta proprietate numita `timp_executat_activ`, setata la 0, care arata cat a executat elevul din activiatea data).\n",
    "\n",
    "- o metoda numita `trece_ora(ora)` care va executa inca o ora din activitatea curenta (adica va schimba proprietatile elevului in functie de factorii de activitate. De exemplu, va adauga la sanatatea elevului `factor_sanatate/durata_activitate` ). Daca elevul a petrecut deja timpul alocat activitatii, atunci metoda va returna `False`, altfel `True`. Puteti opta sa faceti trecerea la urmatoarea activitate chiar in aceasta metoda. Daca elevul a terminat activitatea curenta, aceasta se sterge din lista de activitati si se apeleaza `desfasoara_activitate` pentru a trece la urmtoarea activitate din lista\n",
    "\n",
    "- o metoda numita `testeaza_final`, care verifica daca elevul a ajuns intr-o stare finala sau nu (returneaza `True` sau `False` dupa caz).\n",
    "\n",
    "- o metoda numita `afiseaza_raport` care afiseaza pe ecran cate ore a executat elevul respectiv din fiecare activitate in total – se va folosi un dictionar pentru a memora acest raport.\n",
    "\n",
    "se va redefini metoda __repr__ pentru a afisa elevii intr-o maniera mai user friendly.\n",
    "Considerente privind activitatile: (aceste restrictii se adauga in simulare si/sau in metodele descrise mai sus)\n",
    "\n",
    "Pentru un elev niciunul din statusuri nu poate sa creasca mai mult de 100 sau sa ajunga negativ.\n",
    "Toate activitatile care se desfasoara noaptea (orele 22 – 6 dimineata), in afara de dormit, vor scadea sanatatea cu 1, in fiecare ora.\n",
    "Daca sanatatea sau buna dispozitie ajung la 0 inseamna ca elevul e bolnav si procesul se opreste pentru elevul respectiv.\n",
    "Daca inteligenta ajunge la 100, atunci elevul termina scoala, se afiseaza pe ecran un mesaj de felicitare si nu se mai continua procesul pentru el.\n",
    "Daca oboseala a ajuns la 100, orice aport pozitiv de inteligenta, sanatate sau buna dispozitie va fi la jumatate.\n",
    "Veti considera o lista de elevi care primesc fiecare cate o lista de activitati de facut (activitatile pot fi citite dintr-un fisier sau alocate aleator).\n",
    "\n",
    "Va exista o functie numita `porneste simulare` care va porni de la ora 9 dimineata si va afisa pentru fiecare elev ce face. Dupa afisarea activitatilor pentru acea ora va afisa textul:\n",
    "`comanda=`\n",
    "si va astepta un input. Inputul poate fi un numar (cate ore sa mai afiseze), cuvantul \"gata\" care opreste executia acolo si nu mai aduce elevii la o stare finala, si cuvantul \"continua\", care va afisa pe ecran doar starile finale ale elevilor (daca au absolvit sau au ajuns la spital – cam sadic, stiu :D) si raportul: cate ore au dormit, cate ore au stat la televizor etc.\n",
    "\n",
    "Cand se afiseaza mai multe ore, intre afisarile a doua ore trebuie sa existe un delay de 1 secunda.\n",
    "\n",
    "Daca activitatea dureaza `d` ore si valoarea unui factor e `f`, atunci statusul elevului creste in fiecare ora cu `f/d`."
   ],
   "metadata": {
    "id": "cqRg5jxe5lhN"
   }
  },
  {
   "cell_type": "markdown",
   "source": [
    "    Afisarea va fi de forma (pentru o ora):\n",
    "    Ora 10:00\n",
    "    Ionel dormit 2/4 (snt: 27, intel: 40, obos: 13, dispoz: 55)\n",
    "    Gigel televizor 1/1 (snt: 13, intel: 90, obos: 83, dispoz: 5)\n",
    "    Simona invatat 4/4 (snt: 95, intel: 70, obos: 40, dispoz: 75)"
   ],
   "metadata": {
    "id": "LaMV2usI5qvL"
   }
  },
  {
   "cell_type": "markdown",
   "source": [
    "Orele vor creste pana la 24 si apoi se vor reseta la 1.\n",
    "\n",
    "In cadrul simularii, cand un elev a terminat o activitate, se va alege aleator pentru el o noua activitate."
   ],
   "metadata": {
    "id": "SOm5NYdD5uXC"
   }
  },
  {
   "cell_type": "code",
   "execution_count": 1,
   "outputs": [],
   "source": [
    "class Activitate:\n",
    "    def __init__(self, nume, factor_sanatate, factor_inteligenta, factor_oboseala, factor_dispozitie, durata):\n",
    "        self.nume = nume\n",
    "        self.factor_sanatate = factor_sanatate\n",
    "        self.factor_inteligenta = factor_inteligenta\n",
    "        self.factor_oboseala = factor_oboseala\n",
    "        self.factor_dispozitie = factor_dispozitie\n",
    "        self.durata = durata"
   ],
   "metadata": {
    "collapsed": false,
    "pycharm": {
     "name": "#%%\n"
    }
   }
  },
  {
   "cell_type": "code",
   "execution_count": 2,
   "outputs": [],
   "source": [
    "f = open(\"elev.txt\")\n",
    "\n",
    "f.readline()\n",
    "\n",
    "activities = []\n",
    "\n",
    "for linie in f:\n",
    "    tokens = linie.strip().split(\" \")\n",
    "    activity_args = [arg if index == 0 else int(arg) for (arg,index) in zip(tokens, range(len(tokens))) if arg != \"\"]\n",
    "    activities.append(activity_args)\n",
    "\n",
    "activities = [Activitate(arg[0],arg[1],arg[2],arg[3],arg[4],arg[5]) for arg in activities]"
   ],
   "metadata": {
    "collapsed": false,
    "pycharm": {
     "name": "#%%\n"
    }
   }
  },
  {
   "cell_type": "code",
   "execution_count": 7,
   "outputs": [
    {
     "data": {
      "text/plain": "0"
     },
     "execution_count": 7,
     "metadata": {},
     "output_type": "execute_result"
    }
   ],
   "source": [
    "activities[0].nume"
   ],
   "metadata": {
    "collapsed": false,
    "pycharm": {
     "name": "#%%\n"
    }
   }
  },
  {
   "cell_type": "code",
   "execution_count": 1,
   "outputs": [],
   "source": [
    "class Elev:\n",
    "    _id_necunoscut = 1\n",
    "\n",
    "    def __init__(self, nume = None, sanatate = 90, inteligenta = 20, oboseala = 0, buna_dispozitie = 100, activitati = []):\n",
    "        self.nume = nume if nume is not None else f'Necunoscut_{_id_necunoscut}'\n",
    "        self.sanatate = sanatate\n",
    "        self.inteligenta = inteligenta\n",
    "        self.oboseala = oboseala\n",
    "        self.buna_dispozitie = buna_dispozitie\n",
    "        self.activitati = activitati\n",
    "        self.activitate_curenta = None\n",
    "        self.timp_executat_activ = 0\n",
    "        self.raport = dict()\n",
    "\n",
    "        if nume is None:\n",
    "            id_necunoscut = _id_necunoscut + 1\n",
    "\n",
    "\n",
    "    def adauga_activitate(self, activitate):\n",
    "        self.activitati.append(activitate)\n",
    "\n",
    "    def desfasoara_activitate(self, activitate):\n",
    "        self.activitate_curenta = activitate\n",
    "        self.timp_executat_activ = 0\n",
    "\n",
    "    def trece_ora(self, ora):\n",
    "        if self.activitate_curenta is None:\n",
    "            return True\n",
    "\n",
    "        if self.timp_executat_activ == self.activitate_curenta.durata:\n",
    "            index = self.activitati.index(self.activitate_curenta)\n",
    "            self.activitati.pop(index)\n",
    "            if len(self.activitati) == 0 :\n",
    "                self.desfasoara_activitate(None)\n",
    "            else:\n",
    "                self.desfasoara_activitate(self.activitati[random.randint(0,len(self.activitati) - 1)])\n",
    "\n",
    "        if self.activitate_curenta is None:\n",
    "            return True\n",
    "\n",
    "        factor_sanatate = self.activitate_curenta.factor_sanatate if self.oboseala < 100 else self.activitate_curenta.factor_sanatate / 2\n",
    "        factor_inteligenta = self.activitate_curenta.factor_inteligenta if self.oboseala < 100 else self.activitate_curenta.factor_inteligenta / 2\n",
    "        factor_dispozitie = self.activitate_curenta.factor_dispozitie if self.oboseala < 100 else self.activitate_curenta.factor_dispozitie / 2\n",
    "        factor_oboseala = self.activitate_curenta.factor_oboseala\n",
    "\n",
    "        self.timp_executat_activ =  self.timp_executat_activ + 1\n",
    "        self.sanatate = self.sanatate + factor_sanatate / self.activitate_curenta.durata\n",
    "        self.inteligenta = self.sanatate + factor_inteligenta / self.activitate_curenta.durata\n",
    "        self.oboseala = self.sanatate + factor_oboseala / self.activitate_curenta.durata\n",
    "        self.buna_dispozitie = self.sanatate + factor_dispozitie / self.activitate_curenta.durata\n",
    "\n",
    "        if self.activitate_curenta.nume in self.raport:\n",
    "            self.raport[self.activitate_curenta.nume] = self.raport[self.activitate_curenta.nume] + 1\n",
    "        else:\n",
    "            self.raport[self.activitate_curenta.nume] = 1\n",
    "\n",
    "        if self.activitate_curenta.nume != \"dormit\" and (ora > 22 or ora <= 6):\n",
    "            self.sanatate = self.sanatate - 1\n",
    "\n",
    "        if self.sanatate > 100:\n",
    "            self.sanatate = 100\n",
    "        elif self.sanatate < 0:\n",
    "            self.sanatate = 0\n",
    "\n",
    "        if self.inteligenta > 100:\n",
    "            self.inteligenta = 100\n",
    "            print(f\"Felicitari {self.nume} pentru absolvire\")\n",
    "        elif self.inteligenta < 0:\n",
    "            self.inteligenta = 0\n",
    "\n",
    "        if self.oboseala > 100:\n",
    "            self.oboseala = 100\n",
    "        elif self.oboseala < 0:\n",
    "            self.oboseala = 0\n",
    "\n",
    "        if self.buna_dispozitie > 100:\n",
    "            self.buna_dispozitie = 100\n",
    "        elif self.buna_dispozitie < 0:\n",
    "            self.buna_dispozitie = 0\n",
    "\n",
    "            return True\n",
    "\n",
    "        return False\n",
    "\n",
    "    def testeaza_final(self):\n",
    "        return self.sanatate == 0 or self.buna_dispozitie == 0 or self.inteligenta == 100 or len(self.activitati) == 0\n",
    "\n",
    "    def afiseaza_raport(self):\n",
    "        print(f\"{self.nume} a petrecut:\")\n",
    "        for key in self.raport:\n",
    "            print(f\"{self.raport[key]} ore pentru {key}\")\n",
    "\n",
    "    def __repr__(self):\n",
    "        return (f\"{self.nume} {self.activitate_curenta.nume} {self.timp_executat_activ}/{self.activitate_curenta.durata} \"\n",
    "                f\"(snt: {self.sanatate}, intel: {self.inteligenta}, obos: {self.oboseala}, dispoz: {self.buna_dispozitie})\")"
   ],
   "metadata": {
    "collapsed": false,
    "pycharm": {
     "name": "#%%\n"
    }
   }
  },
  {
   "cell_type": "code",
   "execution_count": null,
   "outputs": [],
   "source": [
    "def simulare():\n",
    "    elevi = []\n",
    "    nume = [\"Dani\", \"Ana\", \"Edi\"]\n",
    "    ora = 9\n",
    "    for i in range(5):\n",
    "        activitati_elev = [activities[random.randint(0, len(activities) - 1)] for i in range(15)]\n",
    "        elevi.append(Elev(nume = nume[i], activitati = activitati_elev))\n",
    "        elevi[i].desfasoara_activitate(activitati_elev[0])\n",
    "\n",
    "    print(f\"Ora {ora}:00\")\n",
    "    for elev in elevi:\n",
    "        print(repr(elev))\n",
    "\n",
    "    comanda = \"\"\n",
    "    finished = 0\n",
    "    while comanda != \"gata\" and comanda != \"continua\":\n",
    "        comanda = input(\"comanda=\")\n",
    "        if comanda == \"continua\":\n",
    "            while finished != len(elevi):\n",
    "                ora  = ora + 1 if ora != 24 else 1\n",
    "                for elev in elevi:\n",
    "                    if elev.testeaza_final() == False:\n",
    "                        elev.trece_ora(ora)\n",
    "                        if elev.testeaza_final() == True:\n",
    "                            finished = finished + 1\n",
    "\n",
    "            for elev in elevi:\n",
    "                if elev.sanatate == 0 or elev.buna_dispozitie == 0:\n",
    "                    print(f\"{elev.nume} este in spital\")\n",
    "                elif elev.inteligenta == 100:\n",
    "                    print(f\"{elev.nume} a absolvit\")\n",
    "                elev.afiseaza_raport()\n",
    "\n",
    "\n",
    "        elif comanda == \"gata\":\n",
    "            pass\n",
    "        else:\n",
    "            ore = int(comanda)\n",
    "            for i in range(ore):\n",
    "                ora = ora + 1\n",
    "                for elev in elevi:\n",
    "                    if elev.testeaza_final() == False:\n",
    "                        elev.trece_ora(ora)\n",
    "                        if elev.testeaza_final() == True:\n",
    "                            finished = finished + 1\n",
    "\n",
    "                print(f\"Ora {ora}:00\")\n",
    "                for elev in elevi:\n",
    "                    print(repr(elev))\n",
    "                if ore > 1:\n",
    "                    time.sleep(1)\n",
    "\n",
    "\n",
    "simulare()"
   ],
   "metadata": {
    "collapsed": false,
    "pycharm": {
     "name": "#%%\n"
    }
   }
  },
  {
   "cell_type": "code",
   "execution_count": null,
   "outputs": [],
   "source": [],
   "metadata": {
    "collapsed": false,
    "pycharm": {
     "name": "#%%\n"
    }
   }
  },
  {
   "cell_type": "markdown",
   "source": [],
   "metadata": {
    "id": "C3hhkgpU7SJ5"
   }
  }
 ]
}
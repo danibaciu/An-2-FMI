{
 "cells": [
  {
   "cell_type": "code",
   "execution_count": null,
   "metadata": {
    "collapsed": true
   },
   "outputs": [],
   "source": [
    "# jupyter nbconvert --to python ex1.ipynb"
   ]
  },
  {
   "cell_type": "code",
   "execution_count": 85,
   "outputs": [],
   "source": [
    "import numpy as np\n",
    "import matplotlib\n",
    "\n",
    "from sklearn.feature_extraction.text import CountVectorizer, TfidfTransformer\n",
    "from sklearn.kernel_ridge import KernelRidge\n",
    "from sklearn.model_selection import train_test_split"
   ],
   "metadata": {
    "collapsed": false,
    "pycharm": {
     "name": "#%%\n"
    }
   }
  },
  {
   "cell_type": "code",
   "execution_count": 60,
   "outputs": [],
   "source": [
    "path = \"./varianta2/\"\n",
    "data_txt = np.load(path + \"train_data.npy\")\n",
    "data_labels = np.load(path + \"train_labels.npy\")\n",
    "test_txt = np.load(path + \"test_data.npy\")"
   ],
   "metadata": {
    "collapsed": false,
    "pycharm": {
     "name": "#%%\n"
    }
   }
  },
  {
   "cell_type": "code",
   "execution_count": 76,
   "outputs": [],
   "source": [
    "train_txt, validation_txt, train_labels, validation_labels = train_test_split(data_txt, data_labels, test_size=0.1)"
   ],
   "metadata": {
    "collapsed": false,
    "pycharm": {
     "name": "#%%\n"
    }
   }
  },
  {
   "cell_type": "code",
   "execution_count": 77,
   "outputs": [],
   "source": [
    "def similarity(string1, string2, n_gram) :\n",
    "    k = 0\n",
    "\n",
    "    for i in range(len(string1) - n_gram - 1) :\n",
    "\n",
    "        if string1[i : i + n_gram] in string2 :\n",
    "\n",
    "            k += 1\n",
    "\n",
    "    return k"
   ],
   "metadata": {
    "collapsed": false,
    "pycharm": {
     "name": "#%%\n"
    }
   }
  },
  {
   "cell_type": "code",
   "execution_count": 78,
   "outputs": [],
   "source": [
    "# for i in range(len(data_images)):\n",
    "#     for j in range(i + 1, len(data_images)) :\n",
    "#         print(similarity(data_images[i], data_images[j], 4))"
   ],
   "metadata": {
    "collapsed": false,
    "pycharm": {
     "name": "#%%\n"
    }
   }
  },
  {
   "cell_type": "code",
   "execution_count": 79,
   "outputs": [],
   "source": [
    "# similarity(\"ananas copt\", \"banana verde\", 4)"
   ],
   "metadata": {
    "collapsed": false,
    "pycharm": {
     "name": "#%%\n"
    }
   }
  },
  {
   "cell_type": "code",
   "execution_count": 80,
   "outputs": [],
   "source": [
    "def classifica_imaginea(txt_train, labeluri_train, string_pentru_clasificat, no_of_neigh = 1, n_gram_dimension = 4) :\n",
    "\n",
    "    distante = np.array([similarity(x, string_pentru_clasificat, n_gram_dimension) for x in txt_train])\n",
    "\n",
    "    indici_sortati = np.argsort(distante)\n",
    "\n",
    "    indici_sortati = indici_sortati[ :no_of_neigh]\n",
    "\n",
    "    preziceri = labeluri_train[indici_sortati]\n",
    "\n",
    "    d = {}\n",
    "\n",
    "    d[1] = d[-1] = 0\n",
    "\n",
    "    for x in preziceri :\n",
    "        d[x] += 1\n",
    "\n",
    "    if d[1] >= d[-1] :\n",
    "        return 1\n",
    "    return -1"
   ],
   "metadata": {
    "collapsed": false,
    "pycharm": {
     "name": "#%%\n"
    }
   }
  },
  {
   "cell_type": "code",
   "execution_count": 81,
   "outputs": [
    {
     "name": "stdout",
     "output_type": "stream",
     "text": [
      "{-1: 481, 1: 419}\n"
     ]
    }
   ],
   "source": [
    "# d = {}\n",
    "# for x in train_labels :\n",
    "#     if x not in d :\n",
    "#         d[x] = 0\n",
    "#     d[x] += 1\n",
    "#\n",
    "# print(d)"
   ],
   "metadata": {
    "collapsed": false,
    "pycharm": {
     "name": "#%%\n"
    }
   }
  },
  {
   "cell_type": "code",
   "execution_count": 83,
   "outputs": [
    {
     "name": "stdout",
     "output_type": "stream",
     "text": [
      "Valoarea de prezicere pentru \tnr vecini = \t0 \teste = \t0.5\n",
      "Valoarea de prezicere pentru \tnr vecini = \t1 \teste = \t0.5\n",
      "Valoarea de prezicere pentru \tnr vecini = \t2 \teste = \t0.45\n",
      "Valoarea de prezicere pentru \tnr vecini = \t3 \teste = \t0.46\n",
      "Valoarea de prezicere pentru \tnr vecini = \t4 \teste = \t0.46\n",
      "Valoarea de prezicere pentru \tnr vecini = \t5 \teste = \t0.46\n",
      "Valoarea de prezicere pentru \tnr vecini = \t6 \teste = \t0.47\n",
      "Valoarea de prezicere pentru \tnr vecini = \t7 \teste = \t0.49\n",
      "Valoarea de prezicere pentru \tnr vecini = \t8 \teste = \t0.49\n",
      "Valoarea de prezicere pentru \tnr vecini = \t9 \teste = \t0.5\n",
      "Valoarea de prezicere pentru \tnr vecini = \t10 \teste = \t0.52\n",
      "Valoarea de prezicere pentru \tnr vecini = \t11 \teste = \t0.47\n",
      "Valoarea de prezicere pentru \tnr vecini = \t12 \teste = \t0.48\n",
      "Valoarea de prezicere pentru \tnr vecini = \t13 \teste = \t0.43\n",
      "Valoarea de prezicere pentru \tnr vecini = \t14 \teste = \t0.45\n",
      "Valoarea de prezicere pentru \tnr vecini = \t15 \teste = \t0.47\n",
      "Valoarea de prezicere pentru \tnr vecini = \t16 \teste = \t0.48\n",
      "Valoarea de prezicere pentru \tnr vecini = \t17 \teste = \t0.44\n",
      "Valoarea de prezicere pentru \tnr vecini = \t18 \teste = \t0.45\n",
      "Valoarea de prezicere pentru \tnr vecini = \t19 \teste = \t0.44\n",
      "Valoarea de prezicere pentru \tnr vecini = \t20 \teste = \t0.38\n",
      "Valoarea de prezicere pentru \tnr vecini = \t21 \teste = \t0.4\n",
      "Valoarea de prezicere pentru \tnr vecini = \t22 \teste = \t0.42\n",
      "Valoarea de prezicere pentru \tnr vecini = \t23 \teste = \t0.42\n",
      "Valoarea de prezicere pentru \tnr vecini = \t24 \teste = \t0.42\n",
      "Valoarea de prezicere pentru \tnr vecini = \t25 \teste = \t0.45\n",
      "Valoarea de prezicere pentru \tnr vecini = \t26 \teste = \t0.43\n",
      "Valoarea de prezicere pentru \tnr vecini = \t27 \teste = \t0.44\n",
      "Valoarea de prezicere pentru \tnr vecini = \t28 \teste = \t0.4\n",
      "Valoarea de prezicere pentru \tnr vecini = \t29 \teste = \t0.47\n",
      "Valoarea de prezicere pentru \tnr vecini = \t30 \teste = \t0.46\n",
      "Valoarea de prezicere pentru \tnr vecini = \t31 \teste = \t0.47\n",
      "Valoarea de prezicere pentru \tnr vecini = \t32 \teste = \t0.43\n",
      "Valoarea de prezicere pentru \tnr vecini = \t33 \teste = \t0.46\n",
      "Valoarea de prezicere pentru \tnr vecini = \t34 \teste = \t0.41\n",
      "Valoarea de prezicere pentru \tnr vecini = \t35 \teste = \t0.45\n",
      "Valoarea de prezicere pentru \tnr vecini = \t36 \teste = \t0.39\n",
      "Valoarea de prezicere pentru \tnr vecini = \t37 \teste = \t0.45\n",
      "Valoarea de prezicere pentru \tnr vecini = \t38 \teste = \t0.44\n",
      "Valoarea de prezicere pentru \tnr vecini = \t39 \teste = \t0.42\n",
      "Valoarea de prezicere pentru \tnr vecini = \t40 \teste = \t0.39\n",
      "Valoarea de prezicere pentru \tnr vecini = \t41 \teste = \t0.39\n",
      "Valoarea de prezicere pentru \tnr vecini = \t42 \teste = \t0.37\n",
      "Valoarea de prezicere pentru \tnr vecini = \t43 \teste = \t0.4\n",
      "Valoarea de prezicere pentru \tnr vecini = \t44 \teste = \t0.35\n",
      "Valoarea de prezicere pentru \tnr vecini = \t45 \teste = \t0.39\n",
      "Valoarea de prezicere pentru \tnr vecini = \t46 \teste = \t0.35\n",
      "Valoarea de prezicere pentru \tnr vecini = \t47 \teste = \t0.38\n",
      "Valoarea de prezicere pentru \tnr vecini = \t48 \teste = \t0.34\n",
      "Valoarea de prezicere pentru \tnr vecini = \t49 \teste = \t0.4\n",
      "Valoarea de prezicere pentru \tnr vecini = \t50 \teste = \t0.36\n",
      "Valoarea de prezicere pentru \tnr vecini = \t51 \teste = \t0.39\n",
      "Valoarea de prezicere pentru \tnr vecini = \t52 \teste = \t0.37\n",
      "Valoarea de prezicere pentru \tnr vecini = \t53 \teste = \t0.39\n",
      "Valoarea de prezicere pentru \tnr vecini = \t54 \teste = \t0.35\n",
      "Valoarea de prezicere pentru \tnr vecini = \t55 \teste = \t0.38\n",
      "Valoarea de prezicere pentru \tnr vecini = \t56 \teste = \t0.33\n",
      "Valoarea de prezicere pentru \tnr vecini = \t57 \teste = \t0.38\n",
      "Valoarea de prezicere pentru \tnr vecini = \t58 \teste = \t0.33\n",
      "Valoarea de prezicere pentru \tnr vecini = \t59 \teste = \t0.35\n",
      "Valoarea de prezicere pentru \tnr vecini = \t60 \teste = \t0.35\n",
      "Valoarea de prezicere pentru \tnr vecini = \t61 \teste = \t0.35\n",
      "Valoarea de prezicere pentru \tnr vecini = \t62 \teste = \t0.31\n",
      "Valoarea de prezicere pentru \tnr vecini = \t63 \teste = \t0.33\n",
      "Valoarea de prezicere pentru \tnr vecini = \t64 \teste = \t0.27\n",
      "Valoarea de prezicere pentru \tnr vecini = \t65 \teste = \t0.31\n",
      "Valoarea de prezicere pentru \tnr vecini = \t66 \teste = \t0.3\n",
      "Valoarea de prezicere pentru \tnr vecini = \t67 \teste = \t0.32\n",
      "Valoarea de prezicere pentru \tnr vecini = \t68 \teste = \t0.32\n",
      "Valoarea de prezicere pentru \tnr vecini = \t69 \teste = \t0.36\n",
      "Valoarea de prezicere pentru \tnr vecini = \t70 \teste = \t0.32\n",
      "Valoarea de prezicere pentru \tnr vecini = \t71 \teste = \t0.36\n",
      "Valoarea de prezicere pentru \tnr vecini = \t72 \teste = \t0.36\n",
      "Valoarea de prezicere pentru \tnr vecini = \t73 \teste = \t0.38\n",
      "Valoarea de prezicere pentru \tnr vecini = \t74 \teste = \t0.37\n",
      "Valoarea de prezicere pentru \tnr vecini = \t75 \teste = \t0.4\n",
      "Valoarea de prezicere pentru \tnr vecini = \t76 \teste = \t0.39\n",
      "Valoarea de prezicere pentru \tnr vecini = \t77 \teste = \t0.4\n",
      "Valoarea de prezicere pentru \tnr vecini = \t78 \teste = \t0.39\n",
      "Valoarea de prezicere pentru \tnr vecini = \t79 \teste = \t0.39\n",
      "Valoarea de prezicere pentru \tnr vecini = \t80 \teste = \t0.4\n",
      "Valoarea de prezicere pentru \tnr vecini = \t81 \teste = \t0.41\n",
      "Valoarea de prezicere pentru \tnr vecini = \t82 \teste = \t0.41\n",
      "Valoarea de prezicere pentru \tnr vecini = \t83 \teste = \t0.41\n",
      "Valoarea de prezicere pentru \tnr vecini = \t84 \teste = \t0.41\n",
      "Valoarea de prezicere pentru \tnr vecini = \t85 \teste = \t0.41\n",
      "Valoarea de prezicere pentru \tnr vecini = \t86 \teste = \t0.39\n",
      "Valoarea de prezicere pentru \tnr vecini = \t87 \teste = \t0.41\n",
      "Valoarea de prezicere pentru \tnr vecini = \t88 \teste = \t0.39\n",
      "Valoarea de prezicere pentru \tnr vecini = \t89 \teste = \t0.38\n",
      "Valoarea de prezicere pentru \tnr vecini = \t90 \teste = \t0.38\n",
      "Valoarea de prezicere pentru \tnr vecini = \t91 \teste = \t0.4\n",
      "Valoarea de prezicere pentru \tnr vecini = \t92 \teste = \t0.4\n",
      "Valoarea de prezicere pentru \tnr vecini = \t93 \teste = \t0.4\n",
      "Valoarea de prezicere pentru \tnr vecini = \t94 \teste = \t0.4\n",
      "Valoarea de prezicere pentru \tnr vecini = \t95 \teste = \t0.42\n",
      "Valoarea de prezicere pentru \tnr vecini = \t96 \teste = \t0.38\n",
      "Valoarea de prezicere pentru \tnr vecini = \t97 \teste = \t0.41\n",
      "Valoarea de prezicere pentru \tnr vecini = \t98 \teste = \t0.4\n",
      "Valoarea de prezicere pentru \tnr vecini = \t99 \teste = \t0.41\n",
      "\n",
      "--------------------------------------------------------------------------------\n",
      "\n"
     ]
    }
   ],
   "source": [
    "# for no_of_neig in [3, 5, 7, 9, 11, 13, 15, 17, 19, 21, 23, 25] :\n",
    "for no_of_neig in range(100) :\n",
    "\n",
    "    # for n_gram in [3, 5, 7, 9, 11, 13, 15, 17, 19, 21, 23] :\n",
    "\n",
    "    n_gram = 8 # l-am luat din cerinta de la 1\n",
    "\n",
    "    predictii = []\n",
    "\n",
    "    for img in validation_txt:\n",
    "\n",
    "        predictii.append(classifica_imaginea(train_txt, train_labels, img, no_of_neig, n_gram))\n",
    "\n",
    "    predictii = np.array(predictii)\n",
    "\n",
    "    # print(f\"Valoarea de prezicere pentru \\tnr vecini = \\t{no_of_neig} \\t si n_gram = \\t{n_gram} \\teste = \\t{(validation_labels == predictii).mean()}\")\n",
    "    print(f\"Valoarea de prezicere pentru \\tnr vecini = \\t{no_of_neig} \\teste = \\t{(validation_labels == predictii).mean()}\")\n",
    "\n",
    "print(\"\\n--------------------------------------------------------------------------------\\n\")\n"
   ],
   "metadata": {
    "collapsed": false,
    "pycharm": {
     "name": "#%%\n"
    }
   }
  },
  {
   "cell_type": "code",
   "execution_count": 69,
   "outputs": [],
   "source": [
    "def write_output_file(predictii, varianta):\n",
    "    f = open(\"Baciu_Daniel-Mihai_243_\" + varianta + \".txt\", \"w\")\n",
    "    f.write(\"label\\n\")\n",
    "    for i in range(len(predictii)):\n",
    "        f.write(f\"{predictii[i]}\\n\")"
   ],
   "metadata": {
    "collapsed": false,
    "pycharm": {
     "name": "#%%\n"
    }
   }
  },
  {
   "cell_type": "code",
   "execution_count": 70,
   "outputs": [],
   "source": [
    "predictii = []\n",
    "\n",
    "for txt in test_txt:\n",
    "\n",
    "    predictii.append(classifica_imaginea(data_txt, data_labels, txt, no_of_neigh=10, n_gram_dimension=8))\n",
    "\n",
    "write_output_file(predictii, \"subiect_2_solutie_1\")"
   ],
   "metadata": {
    "collapsed": false,
    "pycharm": {
     "name": "#%%\n"
    }
   }
  },
  {
   "cell_type": "code",
   "execution_count": 75,
   "outputs": [
    {
     "name": "stdout",
     "output_type": "stream",
     "text": [
      "{-1: 287, 1: 36}\n"
     ]
    }
   ],
   "source": [],
   "metadata": {
    "collapsed": false,
    "pycharm": {
     "name": "#%%\n"
    }
   }
  },
  {
   "cell_type": "code",
   "execution_count": null,
   "outputs": [],
   "source": [],
   "metadata": {
    "collapsed": false,
    "pycharm": {
     "name": "#%%\n"
    }
   }
  },
  {
   "cell_type": "code",
   "execution_count": 71,
   "outputs": [],
   "source": [
    "kernel_matrix_train = np.array([np.array([similarity(data_txt[i], data_txt[j], 8) for i in range(len(data_txt))]) for j in range(len(data_txt))])\n",
    "\n",
    "kernel_matrix_test = np.array([np.array([similarity(test_txt[i], data_txt[j], 8) for i in range(len(test_txt))]) for j in range(len(data_txt))])"
   ],
   "metadata": {
    "collapsed": false,
    "pycharm": {
     "name": "#%%\n"
    }
   }
  },
  {
   "cell_type": "code",
   "execution_count": 73,
   "outputs": [
    {
     "name": "stdout",
     "output_type": "stream",
     "text": [
      "(1000, 323)\n"
     ]
    }
   ],
   "source": [
    "print(kernel_matrix_test.shape)"
   ],
   "metadata": {
    "collapsed": false,
    "pycharm": {
     "name": "#%%\n"
    }
   }
  },
  {
   "cell_type": "code",
   "execution_count": 95,
   "outputs": [],
   "source": [
    "kernel_mtx_train = np.array([np.array([similarity(train_txt[i], train_txt[j], 8) for i in range(len(train_txt))]) for j in range(len(train_txt))])\n",
    "kernel_mtx_validation = np.array([np.array([similarity(train_txt[i], validation_txt[j], 8) for i in range(len(train_txt))]) for j in range(len(validation_txt))])"
   ],
   "metadata": {
    "collapsed": false,
    "pycharm": {
     "name": "#%%\n"
    }
   }
  },
  {
   "cell_type": "code",
   "execution_count": 96,
   "outputs": [
    {
     "data": {
      "text/plain": "KernelRidge(kernel='precomputed')"
     },
     "execution_count": 96,
     "metadata": {},
     "output_type": "execute_result"
    }
   ],
   "source": [],
   "metadata": {
    "collapsed": false,
    "pycharm": {
     "name": "#%%\n"
    }
   }
  },
  {
   "cell_type": "code",
   "execution_count": 112,
   "outputs": [
    {
     "name": "stdout",
     "output_type": "stream",
     "text": [
      "valoarea de predicti pt alpha = 0.4 este 0.77\n",
      "valoarea de predicti pt alpha = 0.7 este 0.77\n",
      "valoarea de predicti pt alpha = 1.1 este 0.8\n",
      "valoarea de predicti pt alpha = 1.3 este 0.81\n",
      "valoarea de predicti pt alpha = 1.5 este 0.83\n",
      "valoarea de predicti pt alpha = 1.9 este 0.83\n",
      "valoarea de predicti pt alpha = 2.1 este 0.84\n",
      "valoarea de predicti pt alpha = 2.3 este 0.84\n",
      "valoarea de predicti pt alpha = 2.5 este 0.85\n",
      "valoarea de predicti pt alpha = 2.7 este 0.86\n",
      "valoarea de predicti pt alpha = 2.9 este 0.86\n",
      "valoarea de predicti pt alpha = 3.1 este 0.87\n",
      "valoarea de predicti pt alpha = 3.5 este 0.88\n",
      "valoarea de predicti pt alpha = 3.9 este 0.89\n",
      "valoarea de predicti pt alpha = 4.3 este 0.9\n",
      "valoarea de predicti pt alpha = 4.7 este 0.9\n",
      "valoarea de predicti pt alpha = 5.5 este 0.9\n",
      "valoarea de predicti pt alpha = 6.1 este 0.9\n",
      "valoarea de predicti pt alpha = 6.9 este 0.91\n",
      "valoarea de predicti pt alpha = 7.5 este 0.93\n",
      "valoarea de predicti pt alpha = 8.1 este 0.93\n",
      "valoarea de predicti pt alpha = 8.9 este 0.93\n",
      "valoarea de predicti pt alpha = 9.3 este 0.93\n"
     ]
    }
   ],
   "source": [
    "for alpha in [0.4, 0.7, 1.1, 1.3, 1.5, 1.9, 2.1, 2.3, 2.5, 2.7, 2.9, 3.1, 3.5, 3.9, 4.3, 4.7, 5.5, 6.1, 6.9, 7.5, 8.1, 8.9, 9.3]:\n",
    "\n",
    "    model = KernelRidge(kernel=\"precomputed\", alpha=alpha)\n",
    "\n",
    "    model.fit(kernel_mtx_train, train_labels)\n",
    "\n",
    "    etichete = model.predict(kernel_mtx_validation)\n",
    "\n",
    "    predictii = []\n",
    "\n",
    "    for x in etichete :\n",
    "        if x <= 0 :\n",
    "            predictii.append(-1)\n",
    "        else :\n",
    "            predictii.append(1)\n",
    "\n",
    "    print(f\"valoarea de predicti pt alpha = {alpha} este {(np.array(predictii) == validation_labels).mean()}\")"
   ],
   "metadata": {
    "collapsed": false,
    "pycharm": {
     "name": "#%%\n"
    }
   }
  },
  {
   "cell_type": "code",
   "execution_count": 115,
   "outputs": [
    {
     "name": "stdout",
     "output_type": "stream",
     "text": [
      "valoarea de predicti pt alpha = 7.5 este 0.93\n",
      "valoarea de predicti pt alpha = 8.9 este 0.93\n",
      "valoarea de predicti pt alpha = 9.3 este 0.93\n"
     ]
    }
   ],
   "source": [
    "k = 1\n",
    "for alpha in [7.5, 8.9, 9.3]:\n",
    "\n",
    "    model = KernelRidge(kernel=\"precomputed\", alpha=alpha)\n",
    "\n",
    "    model.fit(kernel_mtx_train, train_labels)\n",
    "\n",
    "    etichete = model.predict(kernel_mtx_validation)\n",
    "\n",
    "    predictii = []\n",
    "\n",
    "    for x in etichete :\n",
    "        if x <= 0 :\n",
    "            predictii.append(-1)\n",
    "        else :\n",
    "            predictii.append(1)\n",
    "\n",
    "    print(f\"valoarea de predicti pt alpha = {alpha} este {(np.array(predictii) == validation_labels).mean()}\")\n",
    "\n",
    "    write_output_file(predictii, f\"subiect_4_solutie{k}\")\n",
    "    k += 1"
   ],
   "metadata": {
    "collapsed": false,
    "pycharm": {
     "name": "#%%\n"
    }
   }
  },
  {
   "cell_type": "code",
   "execution_count": null,
   "outputs": [],
   "source": [],
   "metadata": {
    "collapsed": false,
    "pycharm": {
     "name": "#%%\n"
    }
   }
  },
  {
   "cell_type": "code",
   "execution_count": null,
   "outputs": [],
   "source": [],
   "metadata": {
    "collapsed": false,
    "pycharm": {
     "name": "#%%\n"
    }
   }
  },
  {
   "cell_type": "code",
   "execution_count": null,
   "outputs": [],
   "source": [],
   "metadata": {
    "collapsed": false,
    "pycharm": {
     "name": "#%%\n"
    }
   }
  },
  {
   "cell_type": "code",
   "execution_count": null,
   "outputs": [],
   "source": [],
   "metadata": {
    "collapsed": false,
    "pycharm": {
     "name": "#%%\n"
    }
   }
  },
  {
   "cell_type": "code",
   "execution_count": null,
   "outputs": [],
   "source": [],
   "metadata": {
    "collapsed": false,
    "pycharm": {
     "name": "#%%\n"
    }
   }
  },
  {
   "cell_type": "code",
   "execution_count": null,
   "outputs": [],
   "source": [],
   "metadata": {
    "collapsed": false,
    "pycharm": {
     "name": "#%%\n"
    }
   }
  },
  {
   "cell_type": "code",
   "execution_count": null,
   "outputs": [],
   "source": [],
   "metadata": {
    "collapsed": false,
    "pycharm": {
     "name": "#%%\n"
    }
   }
  },
  {
   "cell_type": "code",
   "execution_count": null,
   "outputs": [],
   "source": [],
   "metadata": {
    "collapsed": false,
    "pycharm": {
     "name": "#%%\n"
    }
   }
  }
 ],
 "metadata": {
  "kernelspec": {
   "display_name": "Python 3",
   "language": "python",
   "name": "python3"
  },
  "language_info": {
   "codemirror_mode": {
    "name": "ipython",
    "version": 2
   },
   "file_extension": ".py",
   "mimetype": "text/x-python",
   "name": "python",
   "nbconvert_exporter": "python",
   "pygments_lexer": "ipython2",
   "version": "2.7.6"
  }
 },
 "nbformat": 4,
 "nbformat_minor": 0
}
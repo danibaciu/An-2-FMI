{
 "cells": [
  {
   "cell_type": "code",
   "execution_count": 1,
   "metadata": {
    "collapsed": true
   },
   "outputs": [],
   "source": [
    "import numpy as np\n",
    "import pandas as pd\n",
    "\n",
    "from PIL import Image\n",
    "from sklearn.svm import SVC"
   ]
  },
  {
   "cell_type": "markdown",
   "source": [
    "Upload date"
   ],
   "metadata": {
    "collapsed": false,
    "pycharm": {
     "name": "#%% md\n"
    }
   }
  },
  {
   "cell_type": "code",
   "execution_count": 2,
   "outputs": [],
   "source": [
    "train_data = pd.read_csv(\"./data/train.txt\", sep=',')\n",
    "\n",
    "validation_data = pd.read_csv(\"./data/validation.txt\", sep=',')\n",
    "\n",
    "test_data = pd.read_csv(\"./data/test.txt\", sep=',')"
   ],
   "metadata": {
    "collapsed": false,
    "pycharm": {
     "name": "#%%\n"
    }
   }
  },
  {
   "cell_type": "markdown",
   "source": [
    "Functie pentru citire o imagine dupa filename si return pixels"
   ],
   "metadata": {
    "collapsed": false,
    "pycharm": {
     "name": "#%% md\n"
    }
   }
  },
  {
   "cell_type": "code",
   "execution_count": 3,
   "outputs": [],
   "source": [
    "def return_pixel_rgb_values(img_name, path = \"./data/train_validation/\") :\n",
    "    return np.array(list(Image.open(path + img_name).getdata())).reshape((16, 16, 3))"
   ],
   "metadata": {
    "collapsed": false,
    "pycharm": {
     "name": "#%%\n"
    }
   }
  },
  {
   "cell_type": "markdown",
   "source": [
    "Incarcare pixeli"
   ],
   "metadata": {
    "collapsed": false,
    "pycharm": {
     "name": "#%% md\n"
    }
   }
  },
  {
   "cell_type": "code",
   "execution_count": 4,
   "outputs": [],
   "source": [
    "train_images = np.array([return_pixel_rgb_values(x) for x in train_data.id])\n",
    "\n",
    "validation_images = np.array([return_pixel_rgb_values(x) for x in validation_data.id]).reshape((1173, 768))/255\n",
    "\n",
    "test_images = np.array([return_pixel_rgb_values(x, \"./data/test/\") for x in test_data.id]).reshape((2819, 768)) / 255\n",
    "\n",
    "\n",
    "\"\"\"Aici o sa augmentam datele si vom roti imaginile cu 90 grade\"\"\"\n",
    "\n",
    "train_rotate_90 = np.rot90(train_images, k=1, axes=(0, 1)).reshape((8000,768)) / 255\n",
    "\n",
    "train_images = train_images.reshape((8000, 768)) / 255"
   ],
   "metadata": {
    "collapsed": false,
    "pycharm": {
     "name": "#%%\n"
    }
   }
  },
  {
   "cell_type": "markdown",
   "source": [
    "Calculam media imaginilor la fiecare categorie"
   ],
   "metadata": {
    "collapsed": false,
    "pycharm": {
     "name": "#%% md\n"
    }
   }
  },
  {
   "cell_type": "code",
   "execution_count": 5,
   "outputs": [],
   "source": [
    "train_mean_image = np.mean(train_images, axis=0)\n",
    "\n",
    "train_90_mean = np.mean(train_rotate_90, axis=0)\n",
    "\n",
    "validation_mean_image = np.mean(validation_images, axis=0)\n",
    "\n",
    "test_mean_image = np.mean(test_images, axis=0)"
   ],
   "metadata": {
    "collapsed": false,
    "pycharm": {
     "name": "#%%\n"
    }
   }
  },
  {
   "cell_type": "markdown",
   "source": [
    "Standardizam datele"
   ],
   "metadata": {
    "collapsed": false,
    "pycharm": {
     "name": "#%% md\n"
    }
   }
  },
  {
   "cell_type": "code",
   "execution_count": 6,
   "outputs": [],
   "source": [
    "train_images_standardized = train_images - train_mean_image / np.std(train_images)\n",
    "\n",
    "train_90_standardized = train_rotate_90 - train_90_mean / np.std(train_rotate_90)\n",
    "\n",
    "validation_images_standardized = validation_images - validation_mean_image/np.std(validation_images)\n",
    "\n",
    "test_images_standardized = test_images - test_mean_image / np.std(test_images)"
   ],
   "metadata": {
    "collapsed": false,
    "pycharm": {
     "name": "#%%\n"
    }
   }
  },
  {
   "cell_type": "code",
   "execution_count": 7,
   "outputs": [],
   "source": [
    "images_perturbed = []\n",
    "for img in train_images_standardized :\n",
    "    images_perturbed.append(img + np.random.normal(loc=0.0,scale=0.01, size=(768,)))\n",
    "images_perturbed = np.array(images_perturbed)"
   ],
   "metadata": {
    "collapsed": false,
    "pycharm": {
     "name": "#%%\n"
    }
   }
  },
  {
   "cell_type": "code",
   "execution_count": 7,
   "outputs": [],
   "source": [],
   "metadata": {
    "collapsed": false,
    "pycharm": {
     "name": "#%%\n"
    }
   }
  },
  {
   "cell_type": "code",
   "execution_count": 7,
   "outputs": [],
   "source": [],
   "metadata": {
    "collapsed": false,
    "pycharm": {
     "name": "#%%\n"
    }
   }
  },
  {
   "cell_type": "code",
   "execution_count": 8,
   "outputs": [],
   "source": [
    "a = np.concatenate((train_images_standardized, train_90_standardized, images_perturbed), axis=0)\n",
    "a_labels = np.concatenate((np.array(train_data.label), np.array(train_data.label), np.array(train_data.label)), axis=0)"
   ],
   "metadata": {
    "collapsed": false,
    "pycharm": {
     "name": "#%%\n"
    }
   }
  },
  {
   "cell_type": "code",
   "execution_count": 9,
   "outputs": [
    {
     "data": {
      "text/plain": "(24000,)"
     },
     "execution_count": 9,
     "metadata": {},
     "output_type": "execute_result"
    }
   ],
   "source": [
    "a_labels.shape"
   ],
   "metadata": {
    "collapsed": false,
    "pycharm": {
     "name": "#%%\n"
    }
   }
  },
  {
   "cell_type": "code",
   "execution_count": null,
   "outputs": [],
   "source": [],
   "metadata": {
    "collapsed": false,
    "pycharm": {
     "name": "#%%\n"
    }
   }
  },
  {
   "cell_type": "code",
   "execution_count": null,
   "outputs": [],
   "source": [],
   "metadata": {
    "collapsed": false,
    "pycharm": {
     "name": "#%%\n"
    }
   }
  },
  {
   "cell_type": "code",
   "execution_count": null,
   "outputs": [],
   "source": [],
   "metadata": {
    "collapsed": false,
    "pycharm": {
     "name": "#%%\n"
    }
   }
  },
  {
   "cell_type": "code",
   "execution_count": null,
   "outputs": [],
   "source": [],
   "metadata": {
    "collapsed": false,
    "pycharm": {
     "name": "#%%\n"
    }
   }
  },
  {
   "cell_type": "markdown",
   "source": [
    "In continuare avem SVM ul"
   ],
   "metadata": {
    "collapsed": false,
    "pycharm": {
     "name": "#%% md\n"
    }
   }
  },
  {
   "cell_type": "markdown",
   "source": [
    "Aici am def o functie care ne creaza si antreneaza modelul nostru"
   ],
   "metadata": {
    "collapsed": false,
    "pycharm": {
     "name": "#%% md\n"
    }
   }
  },
  {
   "cell_type": "code",
   "execution_count": 10,
   "outputs": [],
   "source": [
    "def create_model(train_arrays, train_labels, c_parameter = 1.0, kernel = \"linear\") :\n",
    "\n",
    "    model_SVM = SVC(C=c_parameter, kernel=kernel)\n",
    "\n",
    "    model_SVM.fit(train_arrays, train_labels)\n",
    "\n",
    "    return model_SVM"
   ],
   "metadata": {
    "collapsed": false,
    "pycharm": {
     "name": "#%%\n"
    }
   }
  },
  {
   "cell_type": "code",
   "execution_count": 8,
   "outputs": [],
   "source": [
    "model_svm = create_model(a, a_labels, c_parameter=1.0)"
   ],
   "metadata": {
    "collapsed": false,
    "pycharm": {
     "name": "#%%\n"
    }
   }
  },
  {
   "cell_type": "code",
   "execution_count": 9,
   "outputs": [
    {
     "data": {
      "text/plain": "0.46462063086104005"
     },
     "execution_count": 9,
     "metadata": {},
     "output_type": "execute_result"
    }
   ],
   "source": [
    "(model_svm.predict(validation_images_standardized) == np.array(validation_data.label)).mean()"
   ],
   "metadata": {
    "collapsed": false,
    "pycharm": {
     "name": "#%%\n"
    }
   }
  },
  {
   "cell_type": "code",
   "execution_count": null,
   "outputs": [],
   "source": [
    "for c in [0.1,0.5,1.0,1.8,3.0] :\n",
    "    model_svm = create_model(a, a_labels, c_parameter=c)\n",
    "    print(f\"Valoarea pt \\tc = \\t{c} \\teste = \\t{(model_svm.predict(validation_images_standardized) == np.array(validation_data.label)).mean()}\")"
   ],
   "metadata": {
    "collapsed": false,
    "pycharm": {
     "name": "#%%\n",
     "is_executing": true
    }
   }
  },
  {
   "cell_type": "code",
   "execution_count": null,
   "outputs": [],
   "source": [
    "for c in [1.0] :\n",
    "    model_svm = create_model(a, a_labels, c_parameter=c, kernel = \"rbf\")\n",
    "    print(f\"Valoarea pt \\tc = \\t{c} \\teste = \\t{(model_svm.predict(validation_images_standardized) == np.array(validation_data.label)).mean()}\")"
   ],
   "metadata": {
    "collapsed": false,
    "pycharm": {
     "name": "#%%\n",
     "is_executing": true
    }
   }
  },
  {
   "cell_type": "markdown",
   "source": [],
   "metadata": {
    "collapsed": false,
    "pycharm": {
     "name": "#%% md\n"
    }
   }
  },
  {
   "cell_type": "code",
   "execution_count": null,
   "outputs": [
    {
     "name": "stdout",
     "output_type": "stream",
     "text": [
      "Valoarea pt \tc = \t0.6 \teste = \t0.5311167945439045\n",
      "Valoarea pt \tc = \t1.1 \teste = \t0.5498721227621484\n",
      "Valoarea pt \tc = \t2.2 \teste = \t0.5481670929241261\n"
     ]
    }
   ],
   "source": [
    "for c in [0.6, 1.1, 2.2,3.3] :\n",
    "    model_svm = create_model(a, a_labels, c_parameter=c, kernel = \"rbf\")\n",
    "    labels = model_svm.predict(validation_images_standardized)\n",
    "    print(f\"Valoarea pt \\tc = \\t{c} \\teste = \\t{(labels == np.array(validation_data.label)).mean()}\")"
   ],
   "metadata": {
    "collapsed": false,
    "pycharm": {
     "name": "#%%\n",
     "is_executing": true
    }
   }
  },
  {
   "cell_type": "code",
   "execution_count": 11,
   "outputs": [],
   "source": [
    "b = np.concatenate((a, validation_images_standardized), axis=0)\n",
    "b_labels = np.concatenate((a_labels, np.array(validation_data.label)), axis=0)\n",
    "\n",
    "for c in [1.1] :\n",
    "    model_svm = create_model(b, b_labels, c_parameter=c, kernel = \"rbf\")\n",
    "    labels = model_svm.predict(test_images_standardized)\n",
    "    # print(f\"Valoarea pt \\tc = \\t{c} \\teste = \\t{(labels == np.array(validation_data.label)).mean()}\")"
   ],
   "metadata": {
    "collapsed": false,
    "pycharm": {
     "name": "#%%\n"
    }
   }
  },
  {
   "cell_type": "code",
   "execution_count": 15,
   "outputs": [
    {
     "data": {
      "text/plain": "array([0, 6, 2, ..., 3, 1, 0], dtype=int64)"
     },
     "execution_count": 15,
     "metadata": {},
     "output_type": "execute_result"
    }
   ],
   "source": [
    "labels"
   ],
   "metadata": {
    "collapsed": false,
    "pycharm": {
     "name": "#%%\n"
    }
   }
  },
  {
   "cell_type": "code",
   "execution_count": 16,
   "outputs": [],
   "source": [
    "f = open(\"svm_third_try_c_is_1p1.txt\",\"w\")\n",
    "f.write(\"id,label\\n\")\n",
    "i = 0\n",
    "for nume_img in test_data.id :\n",
    "    f.write(f\"{nume_img},{labels[i]}\\n\")\n",
    "    i += 1"
   ],
   "metadata": {
    "collapsed": false,
    "pycharm": {
     "name": "#%%\n"
    }
   }
  },
  {
   "cell_type": "markdown",
   "source": [
    "acum facem fisieru out si cu datele de validare"
   ],
   "metadata": {
    "collapsed": false,
    "pycharm": {
     "name": "#%% md\n"
    }
   }
  },
  {
   "cell_type": "code",
   "execution_count": 14,
   "outputs": [],
   "source": [
    "b = np.concatenate((a, validation_images_standardized), axis=0)\n",
    "b_labels = np.concatenate((a_labels, np.array(validation_data.label)), axis=0)\n",
    "\n",
    "for c in [3.3] :\n",
    "    model_svm = create_model(b, b_labels, c_parameter=c, kernel = \"rbf\")\n",
    "    labels2 = model_svm.predict(test_images_standardized)\n",
    "    # print(f\"Valoarea pt \\tc = \\t{c} \\teste = \\t{(labels == np.array(validation_data.label)).mean()}\")"
   ],
   "metadata": {
    "collapsed": false,
    "pycharm": {
     "name": "#%%\n"
    }
   }
  },
  {
   "cell_type": "code",
   "execution_count": 16,
   "outputs": [],
   "source": [
    "f = open(\"svm_second_try_c_is_3p3.txt\",\"w\")\n",
    "f.write(\"id,label\\n\")\n",
    "i = 0\n",
    "for nume_img in test_data.id :\n",
    "    f.write(f\"{nume_img},{labels2[i]}\\n\")\n",
    "    i += 1"
   ],
   "metadata": {
    "collapsed": false,
    "pycharm": {
     "name": "#%%\n"
    }
   }
  },
  {
   "cell_type": "code",
   "execution_count": null,
   "outputs": [],
   "source": [],
   "metadata": {
    "collapsed": false,
    "pycharm": {
     "name": "#%%\n"
    }
   }
  }
 ],
 "metadata": {
  "kernelspec": {
   "display_name": "Python 3",
   "language": "python",
   "name": "python3"
  },
  "language_info": {
   "codemirror_mode": {
    "name": "ipython",
    "version": 2
   },
   "file_extension": ".py",
   "mimetype": "text/x-python",
   "name": "python",
   "nbconvert_exporter": "python",
   "pygments_lexer": "ipython2",
   "version": "2.7.6"
  }
 },
 "nbformat": 4,
 "nbformat_minor": 0
}
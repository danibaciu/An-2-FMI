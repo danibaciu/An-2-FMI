{
 "cells": [
  {
   "cell_type": "code",
   "execution_count": 6,
   "metadata": {
    "collapsed": true
   },
   "outputs": [],
   "source": [
    "import numpy as np\n",
    "import pandas as pd\n",
    "import torch\n",
    "import torchvision.transforms as transforms\n",
    "\n",
    "from cnn_class import CnnModel\n",
    "from tqdm import tqdm\n",
    "from PIL import Image\n",
    "from cnn_class import CnnModel\n",
    "from torch.optim import SGD\n",
    "from torch.nn.functional import softmax\n",
    "from data_load import get_dataloader\n",
    "from sklearn.preprocessing import StandardScaler"
   ]
  },
  {
   "cell_type": "markdown",
   "source": [
    "load the txt files"
   ],
   "metadata": {
    "collapsed": false,
    "pycharm": {
     "name": "#%% md\n"
    }
   }
  },
  {
   "cell_type": "code",
   "execution_count": 2,
   "outputs": [],
   "source": [
    "train_data = pd.read_csv(\"./data/train.txt\", sep=',')\n",
    "\n",
    "validation_data = pd.read_csv(\"./data/validation.txt\", sep=',')\n",
    "\n",
    "test_data = pd.read_csv(\"./data/test.txt\", sep=',')"
   ],
   "metadata": {
    "collapsed": false,
    "pycharm": {
     "name": "#%%\n"
    }
   }
  },
  {
   "cell_type": "markdown",
   "source": [],
   "metadata": {
    "collapsed": false,
    "pycharm": {
     "name": "#%% md\n"
    }
   }
  },
  {
   "cell_type": "code",
   "execution_count": 3,
   "outputs": [],
   "source": [
    "def return_pixel_rgb_values(img_name, path = \"./data/train_validation/\") :\n",
    "    return np.array(list(Image.open(path + img_name).getdata())).reshape((16, 16, 3))"
   ],
   "metadata": {
    "collapsed": false,
    "pycharm": {
     "name": "#%%\n"
    }
   }
  },
  {
   "cell_type": "markdown",
   "source": [
    "load the images"
   ],
   "metadata": {
    "collapsed": false,
    "pycharm": {
     "name": "#%% md\n"
    }
   }
  },
  {
   "cell_type": "code",
   "execution_count": 8,
   "outputs": [],
   "source": [
    "train_images = np.array([return_pixel_rgb_values(x) for x in train_data.id])/255\n",
    "                   #.reshape((8000, 768))/255\n",
    "\n",
    "validation_images = np.array([return_pixel_rgb_values(x) for x in validation_data.id])/255\n",
    "                        #.reshape((1173, 768)) / 255\n",
    "\n",
    "test_images = np.array([return_pixel_rgb_values(x, \"./data/test/\") for x in test_data.id])/255\n",
    "                  #.reshape((2819, 768))/255"
   ],
   "metadata": {
    "collapsed": false,
    "pycharm": {
     "name": "#%%\n"
    }
   }
  },
  {
   "cell_type": "markdown",
   "source": [
    "convert the labels to np array"
   ],
   "metadata": {
    "collapsed": false,
    "pycharm": {
     "name": "#%% md\n"
    }
   }
  },
  {
   "cell_type": "code",
   "execution_count": 5,
   "outputs": [],
   "source": [
    "train_labels = np.array(train_data.label)\n",
    "\n",
    "validation_labels = np.array(validation_data.label)"
   ],
   "metadata": {
    "collapsed": false,
    "pycharm": {
     "name": "#%%\n"
    }
   }
  },
  {
   "cell_type": "markdown",
   "source": [
    "here we define the transformations that we need for images"
   ],
   "metadata": {
    "collapsed": false,
    "pycharm": {
     "name": "#%% md\n"
    }
   }
  },
  {
   "cell_type": "markdown",
   "source": [
    "we define a function which normalize data"
   ],
   "metadata": {
    "collapsed": false,
    "pycharm": {
     "name": "#%% md\n"
    }
   }
  },
  {
   "cell_type": "code",
   "execution_count": null,
   "outputs": [],
   "source": [
    "def run():\n",
    "    lr = 0.1\n",
    "    epochs = 10\n",
    "\n",
    "    model = CnnModel()\n",
    "\n",
    "    optimizer = SGD(params=model.parameters(), lr=lr)\n",
    "\n",
    "    criterion = torch.nn.CrossEntropyLoss()\n",
    "\n",
    "    for epoch in range(epochs) :\n",
    "        train_model(model, optimizer, criterion, epoch)\n",
    "\n",
    "\n"
   ],
   "metadata": {
    "collapsed": false,
    "pycharm": {
     "name": "#%%\n"
    }
   }
  },
  {
   "cell_type": "code",
   "execution_count": null,
   "outputs": [],
   "source": [
    "def train_model(model, optimizer, criterion, epoch) :\n",
    "    model.train()\n",
    "\n",
    "    all_loss = 0.0\n",
    "\n",
    "    for i in range(8000) :\n",
    "        image = train_images[i]\n",
    "        label = train_labels[i]\n",
    "\n",
    "        logits = model(image)\n",
    "\n",
    "        loss = criterion(logits, label)\n",
    "\n",
    "        optimizer.zero_grad()\n",
    "\n",
    "        loss.backword()\n",
    "\n",
    "        optimizer.step()\n",
    "\n",
    "        all_loss += loss.item() * len(image)\n",
    "        print(loss.item())\n",
    "\n",
    "    all_loss = all_loss / 8000"
   ],
   "metadata": {
    "collapsed": false,
    "pycharm": {
     "name": "#%%\n",
     "is_executing": true
    }
   }
  },
  {
   "cell_type": "markdown",
   "source": [
    "we define the augmentation for training data"
   ],
   "metadata": {
    "collapsed": false,
    "pycharm": {
     "name": "#%% md\n"
    }
   }
  },
  {
   "cell_type": "code",
   "execution_count": 11,
   "outputs": [],
   "source": [
    "def eval_model(model, optimizer, criterion, epoch) :\n",
    "    model.eval()\n",
    "\n",
    "    all_loss = 0.0\n",
    "    true_preds = 0\n",
    "\n",
    "    with torch.no_grad():\n",
    "        for i in range(8000) :\n",
    "            image = train_images[i]\n",
    "            label = train_labels[i]\n",
    "\n",
    "            logits = model(image)\n",
    "\n",
    "            loss = criterion(logits, label)\n",
    "\n",
    "            scores = softmax(logits, dim=1)\n",
    "\n",
    "            # Get the prediction labels\n",
    "            pred_label = torch.argmax(scores, dim=1)\n",
    "\n",
    "            # Get the acc\n",
    "            true_preds += (pred_label == label).sum()\n",
    "            print(loss.item())\n",
    "\n",
    "            # Get the loss\n",
    "            all_loss += loss.item() * len(images)\n",
    "\n",
    "        all_loss = all_loss / 8000"
   ],
   "metadata": {
    "collapsed": false,
    "pycharm": {
     "name": "#%%\n"
    }
   }
  },
  {
   "cell_type": "markdown",
   "source": [],
   "metadata": {
    "collapsed": false,
    "pycharm": {
     "name": "#%% md\n"
    }
   }
  },
  {
   "cell_type": "code",
   "execution_count": 60,
   "outputs": [],
   "source": [],
   "metadata": {
    "collapsed": false,
    "pycharm": {
     "name": "#%%\n"
    }
   }
  },
  {
   "cell_type": "markdown",
   "source": [],
   "metadata": {
    "collapsed": false,
    "pycharm": {
     "name": "#%% md\n"
    }
   }
  },
  {
   "cell_type": "code",
   "execution_count": 61,
   "outputs": [],
   "source": [],
   "metadata": {
    "collapsed": false,
    "pycharm": {
     "name": "#%%\n"
    }
   }
  },
  {
   "cell_type": "markdown",
   "source": [],
   "metadata": {
    "collapsed": false,
    "pycharm": {
     "name": "#%% md\n"
    }
   }
  },
  {
   "cell_type": "code",
   "execution_count": 62,
   "outputs": [],
   "source": [],
   "metadata": {
    "collapsed": false,
    "pycharm": {
     "name": "#%%\n"
    }
   }
  },
  {
   "cell_type": "code",
   "execution_count": null,
   "outputs": [],
   "source": [],
   "metadata": {
    "collapsed": false,
    "pycharm": {
     "name": "#%%\n",
     "is_executing": true
    }
   }
  },
  {
   "cell_type": "code",
   "execution_count": null,
   "outputs": [],
   "source": [],
   "metadata": {
    "collapsed": false,
    "pycharm": {
     "name": "#%%\n"
    }
   }
  }
 ],
 "metadata": {
  "kernelspec": {
   "display_name": "Python 3",
   "language": "python",
   "name": "python3"
  },
  "language_info": {
   "codemirror_mode": {
    "name": "ipython",
    "version": 2
   },
   "file_extension": ".py",
   "mimetype": "text/x-python",
   "name": "python",
   "nbconvert_exporter": "python",
   "pygments_lexer": "ipython2",
   "version": "2.7.6"
  }
 },
 "nbformat": 4,
 "nbformat_minor": 0
}
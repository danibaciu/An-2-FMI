{
 "cells": [
  {
   "cell_type": "code",
   "execution_count": 1,
   "metadata": {
    "collapsed": true
   },
   "outputs": [],
   "source": [
    "import numpy as np\n",
    "import pandas as pd\n",
    "\n",
    "from PIL import Image"
   ]
  },
  {
   "cell_type": "code",
   "execution_count": 2,
   "outputs": [],
   "source": [
    "fisier_txt_train = pd.read_csv(\"./data/train.txt\", sep=',')\n",
    "\n",
    "fisier_txt_validation = pd.read_csv(\"./data/validation.txt\", sep=',')\n",
    "\n",
    "fisier_txt_test = pd.read_csv(\"./data/test.txt\", sep=',')"
   ],
   "metadata": {
    "collapsed": false,
    "pycharm": {
     "name": "#%%\n"
    }
   }
  },
  {
   "cell_type": "code",
   "execution_count": 3,
   "outputs": [
    {
     "name": "stdout",
     "output_type": "stream",
     "text": [
      "4    ERUZFIFntfyer1B.png\n",
      "5    TcmRDSNgsQ0Pbjs.png\n",
      "6    3DbRytghuEd5UFD.png\n",
      "7    XsF3J1aihqTJmlF.png\n",
      "Name: id, dtype: object\n",
      "----------------------------\n",
      "5    ir4n790lQWRvUoz.png\n",
      "6    x6uhp7UV7Gv3Xez.png\n",
      "Name: id, dtype: object\n"
     ]
    }
   ],
   "source": [
    "print(fisier_txt_train.id[4:8])\n",
    "print(\"----------------------------\")\n",
    "print(fisier_txt_train.id[5:7])"
   ],
   "metadata": {
    "collapsed": false,
    "pycharm": {
     "name": "#%%\n"
    }
   }
  },
  {
   "cell_type": "code",
   "execution_count": 50,
   "outputs": [],
   "source": [
    "def return_pixel_rgb_values(img_name, path = \"../data/train_validation/\") :\n",
    "    return np.array(Image.open(path + img_name).getdata()).reshape((16, 16, 3))"
   ],
   "metadata": {
    "collapsed": false,
    "pycharm": {
     "name": "#%%\n"
    }
   }
  },
  {
   "cell_type": "code",
   "execution_count": 29,
   "outputs": [
    {
     "name": "stdout",
     "output_type": "stream",
     "text": [
      "(16, 16, 3)\n"
     ]
    }
   ],
   "source": [
    "image_name_test = fisier_txt_train.id[3]\n",
    "\n",
    "image = return_pixel_rgb_values(image_name_test)\n",
    "\n",
    "# print(image[0])\n",
    "print(image.shape)"
   ],
   "metadata": {
    "collapsed": false,
    "pycharm": {
     "name": "#%%\n"
    }
   }
  },
  {
   "cell_type": "code",
   "execution_count": 31,
   "outputs": [],
   "source": [
    "train_images = np.array([return_pixel_rgb_values(x) for x in train_data.id])\n",
    "\n",
    "validation_images = np.array([return_pixel_rgb_values(x) for x in validation_data.id]).reshape((1173, 768))/255"
   ],
   "metadata": {
    "collapsed": false,
    "pycharm": {
     "name": "#%%\n"
    }
   }
  },
  {
   "cell_type": "code",
   "execution_count": 33,
   "outputs": [],
   "source": [
    "train_rotate_90 = np.rot90(train_images, k=1, axes =(0, 1)).reshape((8000,768))/255\n",
    "train_images = train_images.reshape((8000, 768))/255"
   ],
   "metadata": {
    "collapsed": false,
    "pycharm": {
     "name": "#%%\n"
    }
   }
  },
  {
   "cell_type": "code",
   "execution_count": 55,
   "outputs": [],
   "source": [
    "test_images = np.array([return_pixel_rgb_values(x, \"./data/test/\") for x in test_data.id]).reshape((2819, 768))/255"
   ],
   "metadata": {
    "collapsed": false,
    "pycharm": {
     "name": "#%%\n"
    }
   }
  },
  {
   "cell_type": "code",
   "execution_count": 56,
   "outputs": [],
   "source": [
    "train_mean_image = np.mean(train_images, axis=0)\n",
    "\n",
    "train_90_mean = np.mean(train_rotate_90, axis=0)\n",
    "\n",
    "validation_mean_image = np.mean(validation_images, axis=0)\n",
    "\n",
    "test_mean_image = np.mean(test_images, axis=0)"
   ],
   "metadata": {
    "collapsed": false,
    "pycharm": {
     "name": "#%%\n"
    }
   }
  },
  {
   "cell_type": "code",
   "execution_count": 57,
   "outputs": [],
   "source": [
    "train_images_standardized = train_images - train_mean_image / np.std(train_images)\n",
    "\n",
    "train_90_standardized = train_rotate_90 - train_90_mean / np.std(train_rotate_90)\n",
    "\n",
    "validation_images_standardized = validation_images - validation_mean_image/np.std(validation_images)\n",
    "\n",
    "test_images_standardized = test_images - test_mean_image / np.std(test_images)"
   ],
   "metadata": {
    "collapsed": false,
    "pycharm": {
     "name": "#%%\n"
    }
   }
  },
  {
   "cell_type": "code",
   "execution_count": 41,
   "outputs": [],
   "source": [
    "def classifica_imaginea(train_images, train_labels, image_pixels, number_of_neighbours = 1) :\n",
    "    # luam in calcul metrica l2\n",
    "    distante = np.sqrt(np.sum(np.power((train_images - image_pixels), 2), axis=1))\n",
    "\n",
    "    sort_indexes = np.argsort(distante)\n",
    "\n",
    "    sort_indexes = sort_indexes[ :number_of_neighbours]\n",
    "\n",
    "    labels = train_labels[sort_indexes]\n",
    "\n",
    "\n",
    "    return np.argmax(np.bincount(labels))"
   ],
   "metadata": {
    "collapsed": false,
    "pycharm": {
     "name": "#%%\n"
    }
   }
  },
  {
   "cell_type": "code",
   "execution_count": 37,
   "outputs": [],
   "source": [
    "images_perturbed = []\n",
    "for img in train_images_standardized :\n",
    "    images_perturbed.append(img + np.random.normal(loc=0.0,scale=0.01, size=(768,)))\n",
    "images_perturbed = np.array(images_perturbed)"
   ],
   "metadata": {
    "collapsed": false,
    "pycharm": {
     "name": "#%%\n"
    }
   }
  },
  {
   "cell_type": "code",
   "execution_count": 43,
   "outputs": [
    {
     "data": {
      "text/plain": "array([-0.63198344, -0.52780605, -0.43828016, -0.63135429, -0.59007048,\n       -0.4910649 , -0.6254513 , -0.57349237, -0.47927542, -0.66150679,\n       -0.59629774, -0.52848484, -0.61952495, -0.56346306, -0.50864333,\n       -0.61995092, -0.5442124 , -0.50826409, -0.60124576, -0.52784865,\n       -0.49416205, -0.60638476, -0.54468508, -0.51473182, -0.62119444,\n       -0.55115281, -0.51039252, -0.63502167, -0.56885078, -0.51765995,\n       -0.65326927, -0.5901914 , -0.53182107, -0.6482869 , -0.57452979,\n       -0.5182934 , -0.6289167 , -0.54165939, -0.50570833, -0.61407266,\n       -0.51470433, -0.48367243, -0.60386885, -0.51744147, -0.47678836,\n       -0.57907108, -0.5295415 , -0.45074844, -0.65446305, -0.5587349 ,\n       -0.4614689 , -0.57241098, -0.52675902, -0.4351308 , -0.59119309,\n       -0.52853431, -0.44781618, -0.56595974, -0.50008015, -0.44371597,\n       -0.53468325, -0.48096277, -0.43653372, -0.55183297, -0.47914488,\n       -0.45587095, -0.52652405, -0.45235609, -0.43097013, -0.52160215,\n       -0.45596027, -0.43752168, -0.52517334, -0.4569441 , -0.42757481,\n       -0.53564647, -0.47786563, -0.43857146, -0.55973797, -0.50194201,\n       -0.45778778, -0.59178119, -0.52580404, -0.48638209, -0.57670906,\n       -0.49443686, -0.47571659, -0.56757977, -0.46842167, -0.4524935 ,\n       -0.55239909, -0.46038201, -0.43182205, -0.5632226 , -0.50316768,\n       -0.43915819, -0.64908866, -0.45831267, -0.39227781, -0.49188934,\n       -0.44777358, -0.38915043, -0.47370496, -0.41778872, -0.36114147,\n       -0.44272389, -0.38492243, -0.35271845, -0.40408653, -0.35003078,\n       -0.33327129, -0.41498974, -0.35364869, -0.35140622, -0.42672564,\n       -0.3665388 , -0.36381128, -0.40463341, -0.34467192, -0.34583301,\n       -0.39991624, -0.33719837, -0.33026209, -0.42157152, -0.37220957,\n       -0.36806814, -0.45369443, -0.40633313, -0.39513999, -0.504157  ,\n       -0.45049149, -0.43540424, -0.49315348, -0.41757024, -0.4113361 ,\n       -0.48311731, -0.38074665, -0.37753958, -0.48497917, -0.39151658,\n       -0.38834523, -0.50994457, -0.45109882, -0.40683329, -0.51842487,\n       -0.37993457, -0.33053141, -0.41274589, -0.35899381, -0.31900986,\n       -0.3852687 , -0.32198884, -0.29691351, -0.3279674 , -0.26380127,\n       -0.26543228, -0.29857613, -0.23174706, -0.25705186, -0.31250366,\n       -0.26150658, -0.29800864, -0.30608128, -0.27445165, -0.30892697,\n       -0.33491468, -0.30514691, -0.34300106, -0.33397894, -0.29526326,\n       -0.33688234, -0.29348247, -0.2499658 , -0.29822162, -0.35654522,\n       -0.30751443, -0.35049384, -0.38396059, -0.32758404, -0.35085384,\n       -0.3870701 , -0.31732663, -0.34008804, -0.3983608 , -0.30864116,\n       -0.31466232, -0.41448546, -0.3397294 , -0.33200715, -0.44416941,\n       -0.40745162, -0.35480153, -0.39048459, -0.33844464, -0.29633778,\n       -0.32412826, -0.25392723, -0.22332953, -0.32860359, -0.25627001,\n       -0.2517356 , -0.26653429, -0.19690349, -0.21083652, -0.22107469,\n       -0.16202695, -0.19813328, -0.23338907, -0.19095516, -0.24794592,\n       -0.25165453, -0.22325945, -0.28361255, -0.24868241, -0.21526102,\n       -0.28974226, -0.2542405 , -0.2099475 , -0.29003768, -0.24582574,\n       -0.19418422, -0.2756732 , -0.26068214, -0.19487812, -0.27818224,\n       -0.3292604 , -0.27093679, -0.3325664 , -0.32233648, -0.25615871,\n       -0.31260122, -0.34898236, -0.27143146, -0.29775993, -0.38956952,\n       -0.32195311, -0.31683197, -0.39650169, -0.3604352 , -0.32372154,\n       -0.36306101, -0.32844144, -0.30088456, -0.29129356, -0.24200996,\n       -0.20741785, -0.24316005, -0.19900582, -0.1938036 , -0.22720714,\n       -0.1847279 , -0.20657554, -0.16794093, -0.14620321, -0.1858931 ,\n       -0.15808613, -0.1357287 , -0.21040781, -0.20364466, -0.19395475,\n       -0.28388187, -0.17745497, -0.17264848, -0.27290171, -0.17202876,\n       -0.14767071, -0.24205668, -0.18391307, -0.14972494, -0.24578726,\n       -0.22812502, -0.18542043, -0.27661581, -0.26015038, -0.21533796,\n       -0.27981463, -0.27913859, -0.23799631, -0.2928023 , -0.29227879,\n       -0.25020626, -0.27035831, -0.30531317, -0.28188535, -0.26324477,\n       -0.34765639, -0.34279357, -0.29813093, -0.33557421, -0.28563105,\n       -0.26678711, -0.23843325, -0.19019118, -0.17581845, -0.20438666,\n       -0.15491891, -0.16680183, -0.1909002 , -0.16026403, -0.19301626,\n       -0.15386363, -0.13872142, -0.20267045, -0.16309871, -0.14170864,\n       -0.23822578, -0.15847498, -0.1326879 , -0.25976151, -0.16273596,\n       -0.14869164, -0.2905722 , -0.18361765, -0.16081365, -0.29766512,\n       -0.16439035, -0.14415448, -0.26856241, -0.19150342, -0.1708512 ,\n       -0.27501777, -0.21020583, -0.18553172, -0.26948853, -0.20912581,\n       -0.19499079, -0.28656817, -0.21926504, -0.19719754, -0.25324157,\n       -0.22608316, -0.21108248, -0.21932825, -0.32382184, -0.31140441,\n       -0.29156702, -0.34542764, -0.30064547, -0.28109251, -0.23110949,\n       -0.18456026, -0.18375231, -0.21092584, -0.15159917, -0.17823681,\n       -0.18959896, -0.16540853, -0.2118657 , -0.17949678, -0.17967816,\n       -0.26361432, -0.39624661, -0.31577749, -0.6517288 , -0.60147097,\n       -0.44138735, -0.88973829, -0.26364286, -0.19845054, -0.44812752,\n       -0.15690579, -0.14754566, -0.28934789, -0.18828809, -0.20805267,\n       -0.32694372, -0.18624486, -0.21114157, -0.32202044, -0.2155056 ,\n       -0.22427901, -0.31868146, -0.22090018, -0.21437749, -0.32158761,\n       -0.19201457, -0.1513642 , -0.2238929 , -0.20924398, -0.16285139,\n       -0.2001669 , -0.29831643, -0.25545244, -0.25445212, -0.33326029,\n       -0.30063723, -0.28161466, -0.25929845, -0.22520788, -0.21106324,\n       -0.22725386, -0.17985408, -0.19000981, -0.21366023, -0.18833482,\n       -0.22746272, -0.19081637, -0.18443108, -0.24506999, -0.19102377,\n       -0.15953299, -0.29477528, -0.2639934 , -0.22730459, -0.4238218 ,\n       -0.23457056, -0.21186289, -0.3950339 , -0.15955362, -0.19675371,\n       -0.34356441, -0.16165869, -0.19932871, -0.32001017, -0.15939835,\n       -0.18655401, -0.28855642, -0.17837559, -0.18405186, -0.26002259,\n       -0.16943454, -0.15329476, -0.23683935, -0.15989715, -0.12265996,\n       -0.17805955, -0.17904476, -0.14971944, -0.17641067, -0.27964287,\n       -0.26655627, -0.25114887, -0.28662174, -0.26157528, -0.2358088 ,\n       -0.23949679, -0.21067713, -0.20052828, -0.23042521, -0.19408529,\n       -0.19415674, -0.18092448, -0.14354851, -0.17374636, -0.15815621,\n       -0.13496747, -0.20164813, -0.14136373, -0.11301952, -0.21387457,\n       -0.1342763 , -0.13365797, -0.2463355 , -0.15957148, -0.18695249,\n       -0.30778098, -0.13980831, -0.17107518, -0.30911247, -0.11449937,\n       -0.13207505, -0.24884319, -0.15042706, -0.14727222, -0.2527414 ,\n       -0.1509341 , -0.13900997, -0.21500269, -0.14318026, -0.11915884,\n       -0.18490378, -0.14182269, -0.10973825, -0.14564534, -0.17845666,\n       -0.16373766, -0.17706885, -0.25956502, -0.25911983, -0.22251746,\n       -0.29405544, -0.28607076, -0.26525915, -0.23832196, -0.23910381,\n       -0.23338494, -0.20911894, -0.19128631, -0.18922247, -0.15846537,\n       -0.13365249, -0.14554503, -0.11817226, -0.10937824, -0.1588872 ,\n       -0.11184744, -0.10850708, -0.18713524, -0.14415448, -0.15610335,\n       -0.24205254, -0.16132755, -0.20452406, -0.30275877, -0.16005105,\n       -0.20126478, -0.31095646, -0.13381463, -0.1432366 , -0.2474334 ,\n       -0.12119243, -0.10669193, -0.20473291, -0.15410957, -0.13966403,\n       -0.22150201, -0.19082736, -0.16213001, -0.23503932, -0.15916477,\n       -0.13101154, -0.16761528, -0.19617661, -0.1828042 , -0.19651738,\n       -0.25601719, -0.25608314, -0.21239746, -0.29440718, -0.29426568,\n       -0.27580786, -0.22715218, -0.24079253, -0.22737203, -0.18994522,\n       -0.17808154, -0.16907316, -0.14184192, -0.13201873, -0.1275695 ,\n       -0.10547452, -0.09992604, -0.1285286 , -0.12671346, -0.12438304,\n       -0.16360575, -0.11980465, -0.12809302, -0.17777375, -0.11482916,\n       -0.12797348, -0.19261916, -0.12317249, -0.15094786, -0.22406191,\n       -0.1117595 , -0.12361082, -0.20242999, -0.10270988, -0.10037397,\n       -0.17379581, -0.09601545, -0.09064148, -0.14913547, -0.11591193,\n       -0.10126438, -0.16163121, -0.15318759, -0.14885241, -0.17153686,\n       -0.19070783, -0.20315137, -0.20509568, -0.26998869, -0.29962042,\n       -0.25157483, -0.31079421, -0.30788405, -0.28283346, -0.23477138,\n       -0.25769767, -0.2308072 , -0.21084065, -0.21697448, -0.18774397,\n       -0.15757223, -0.16058418, -0.15467158, -0.11084025, -0.11256195,\n       -0.15371935, -0.10911992, -0.10549925, -0.14787682, -0.08173066,\n       -0.08828496, -0.14053794, -0.08255922, -0.08381512, -0.14495693,\n       -0.08432627, -0.10080544, -0.14054481, -0.05591883, -0.0699824 ,\n       -0.13280607, -0.07792448, -0.07699013, -0.14950645, -0.103118  ,\n       -0.12083383, -0.17377657, -0.12818644, -0.1366136 , -0.18828534,\n       -0.1729494 , -0.18331123, -0.20219777, -0.22049895, -0.23901037,\n       -0.23920137, -0.29356354, -0.31559806, -0.27303774, -0.33472631,\n       -0.34432153, -0.31790786, -0.28550875, -0.32270198, -0.28641015,\n       -0.25002626, -0.27090794, -0.22659706, -0.18424422, -0.20173883,\n       -0.18134357, -0.13331584, -0.14367355, -0.15896416, -0.11562887,\n       -0.12610475, -0.14667864, -0.12424838, -0.13344776, -0.15535037,\n       -0.0716038 , -0.07895367, -0.10562292, -0.07488094, -0.10147461,\n       -0.10340793, -0.06586844, -0.09231372, -0.11713759, -0.07080821,\n       -0.09314365, -0.13359203, -0.14085122, -0.17200542, -0.19653112,\n       -0.17710181, -0.19154876, -0.22114202, -0.1837633 , -0.19129731,\n       -0.2039923 , -0.23603002, -0.25721949, -0.24527199, -0.34212715,\n       -0.37336929, -0.32721304, -0.30346504, -0.35091018, -0.31058959,\n       -0.2963831 , -0.34891778, -0.29968637, -0.2710742 , -0.31824863,\n       -0.25849463, -0.21931726, -0.26049527, -0.2205498 , -0.18727679,\n       -0.21595354, -0.19625631, -0.14745498, -0.18910842, -0.1637198 ,\n       -0.14179521, -0.18645785, -0.15685909, -0.11575253, -0.15021823,\n       -0.13124101, -0.09678905, -0.14094328, -0.11074544, -0.11722553,\n       -0.15487906, -0.14835912, -0.13357005, -0.18304604, -0.19060752,\n       -0.17969193, -0.23310601, -0.22777463, -0.20400879, -0.25241301,\n       -0.24096979, -0.22304647, -0.25390387, -0.23866411, -0.25859905,\n       -0.2936185 , -0.26292461, -0.32825183, -0.35662354, -0.30910147,\n       -0.30252243, -0.34874601, -0.27811078, -0.29066012, -0.32235432,\n       -0.26600527, -0.29254534, -0.31924208, -0.25182354, -0.25673581,\n       -0.27944638, -0.21504666, -0.22429687, -0.24204843, -0.19160647,\n       -0.19118051, -0.2271618 , -0.17289444, -0.1905718 , -0.22304235,\n       -0.16760703, -0.17881665, -0.19047836, -0.15312163, -0.13387645,\n       -0.14753468, -0.10456764, -0.16102524, -0.17027684, -0.13725254,\n       -0.19235669, -0.21381275, -0.18914688, -0.22807004, -0.25350814,\n       -0.22271668, -0.24602359, -0.26128673, -0.22720714, -0.22306021,\n       -0.22727173, -0.20185975, -0.23523169, -0.24324524, -0.21712562,\n       -0.29225817, -0.27428951, -0.2462146 ])"
     },
     "execution_count": 43,
     "metadata": {},
     "output_type": "execute_result"
    }
   ],
   "source": [
    "np.concatenate((train_images_standardized, train_rotate_90), axis=0)[0]"
   ],
   "metadata": {
    "collapsed": false,
    "pycharm": {
     "name": "#%%\n"
    }
   }
  },
  {
   "cell_type": "code",
   "execution_count": 63,
   "outputs": [],
   "source": [
    "a = np.concatenate((train_images_standardized, train_90_standardized), axis=0)\n",
    "a_labels = np.concatenate((np.array(train_data.label),np.array(train_data.label)), axis=0)"
   ],
   "metadata": {
    "collapsed": false,
    "pycharm": {
     "name": "#%%\n"
    }
   }
  },
  {
   "cell_type": "code",
   "execution_count": 64,
   "outputs": [
    {
     "data": {
      "text/plain": "(16000,)"
     },
     "execution_count": 64,
     "metadata": {},
     "output_type": "execute_result"
    }
   ],
   "source": [],
   "metadata": {
    "collapsed": false,
    "pycharm": {
     "name": "#%%\n"
    }
   }
  },
  {
   "cell_type": "code",
   "execution_count": 46,
   "outputs": [],
   "source": [
    "if True :\n",
    "    num = 12\n",
    "    validation_knn_labels = []\n",
    "\n",
    "    for image_pixels in validation_images_standardized:\n",
    "        validation_knn_labels.append(classifica_imaginea(np.concatenate((train_images_standardized, train_90_standardized), axis=0), np.array(train_data.label), image_pixels, num))\n",
    "\n",
    "    validation_knn_labels = np.array(validation_knn_labels)\n"
   ],
   "metadata": {
    "collapsed": false,
    "pycharm": {
     "name": "#%%\n"
    }
   }
  },
  {
   "cell_type": "code",
   "execution_count": 48,
   "outputs": [
    {
     "name": "stdout",
     "output_type": "stream",
     "text": [
      "Valoarea de prezicere pentru \tnr vecini = \t12 \teste = \t0.4381926683716965\n"
     ]
    }
   ],
   "source": [
    " print(f\"Valoarea de prezicere pentru \\tnr vecini = \\t{num} \\teste = \\t{(np.array(validation_data.label) == validation_knn_labels).mean()}\")"
   ],
   "metadata": {
    "collapsed": false,
    "pycharm": {
     "name": "#%%\n"
    }
   }
  },
  {
   "cell_type": "code",
   "execution_count": 15,
   "outputs": [
    {
     "name": "stdout",
     "output_type": "stream",
     "text": [
      "Valoarea de prezicere pentru \tnr vecini = \t10 \teste = \t0.4356351236146633\n",
      "Valoarea de prezicere pentru \tnr vecini = \t15 \teste = \t0.4339300937766411\n",
      "Valoarea de prezicere pentru \tnr vecini = \t20 \teste = \t0.4322250639386189\n",
      "Valoarea de prezicere pentru \tnr vecini = \t25 \teste = \t0.4339300937766411\n"
     ]
    }
   ],
   "source": [
    "for num in [10, 15, 20, 25] :\n",
    "    validation_knn_labels = []\n",
    "\n",
    "    for image_pixels in validation_images_standardized:\n",
    "        validation_knn_labels.append(classifica_imaginea(train_images_standardized, np.array(train_data.label), image_pixels, num))\n",
    "\n",
    "    validation_knn_labels = np.array(validation_knn_labels)\n",
    "\n",
    "    print(f\"Valoarea de prezicere pentru \\tnr vecini = \\t{num} \\teste = \\t{(np.array(validation_data.label) == validation_knn_labels).mean()}\")"
   ],
   "metadata": {
    "collapsed": false,
    "pycharm": {
     "name": "#%%\n"
    }
   }
  },
  {
   "cell_type": "code",
   "execution_count": null,
   "outputs": [],
   "source": [],
   "metadata": {
    "collapsed": false,
    "pycharm": {
     "name": "#%%\n"
    }
   }
  },
  {
   "cell_type": "code",
   "execution_count": 18,
   "outputs": [
    {
     "name": "stdout",
     "output_type": "stream",
     "text": [
      "Valoarea de prezicere pentru \tnr vecini = \t12 \teste = \t0.4381926683716965\n",
      "Valoarea de prezicere pentru \tnr vecini = \t23 \teste = \t0.4322250639386189\n"
     ]
    }
   ],
   "source": [
    "for num in [12, 23] :\n",
    "    validation_knn_labels = []\n",
    "\n",
    "    for image_pixels in validation_images_standardized:\n",
    "        validation_knn_labels.append(classifica_imaginea(train_images_standardized, np.array(train_data.label), image_pixels, num))\n",
    "\n",
    "    validation_knn_labels = np.array(validation_knn_labels)\n",
    "\n",
    "    print(f\"Valoarea de prezicere pentru \\tnr vecini = \\t{num} \\teste = \\t{(np.array(validation_data.label) == validation_knn_labels).mean()}\")"
   ],
   "metadata": {
    "collapsed": false,
    "pycharm": {
     "name": "#%%\n"
    }
   }
  },
  {
   "cell_type": "code",
   "execution_count": 23,
   "outputs": [
    {
     "name": "stdout",
     "output_type": "stream",
     "text": [
      "Valoarea de prezicere pentru \tnr vecini = \t11 \teste = \t0.4356351236146633\n",
      "Valoarea de prezicere pentru \tnr vecini = \t13 \teste = \t0.43478260869565216\n"
     ]
    }
   ],
   "source": [
    "for num in [11, 13] :\n",
    "    validation_knn_labels = []\n",
    "\n",
    "    for image_pixels in validation_images_standardized:\n",
    "        validation_knn_labels.append(classifica_imaginea(train_images_standardized, np.array(train_data.label), image_pixels, num))\n",
    "\n",
    "    validation_knn_labels = np.array(validation_knn_labels)\n",
    "\n",
    "    print(f\"Valoarea de prezicere pentru \\tnr vecini = \\t{num} \\teste = \\t{(np.array(validation_data.label) == validation_knn_labels).mean()}\")"
   ],
   "metadata": {
    "collapsed": false,
    "pycharm": {
     "name": "#%%\n"
    }
   }
  },
  {
   "cell_type": "code",
   "execution_count": 16,
   "outputs": [
    {
     "data": {
      "text/plain": "(array([0, 1, 2, 3, 4, 5, 6], dtype=int64),\n array([1103, 1134, 1162, 1155, 1164, 1145, 1137], dtype=int64))"
     },
     "execution_count": 16,
     "metadata": {},
     "output_type": "execute_result"
    }
   ],
   "source": [
    "np.unique(np.array(train_data.label), return_counts=True)"
   ],
   "metadata": {
    "collapsed": false,
    "pycharm": {
     "name": "#%%\n"
    }
   }
  },
  {
   "cell_type": "code",
   "execution_count": 17,
   "outputs": [
    {
     "data": {
      "text/plain": "(array([0, 1, 2, 3, 4, 5, 6], dtype=int64),\n array([216, 201, 142, 150, 143, 145, 176], dtype=int64))"
     },
     "execution_count": 17,
     "metadata": {},
     "output_type": "execute_result"
    }
   ],
   "source": [
    "np.unique(np.array(validation_data.label), return_counts=True)"
   ],
   "metadata": {
    "collapsed": false,
    "pycharm": {
     "name": "#%%\n"
    }
   }
  },
  {
   "cell_type": "code",
   "execution_count": 65,
   "outputs": [],
   "source": [
    "if True :\n",
    "    num = 12\n",
    "    validation_knn_labels = []\n",
    "\n",
    "    for image_pixels in test_images_standardized:\n",
    "\n",
    "        label = classifica_imaginea(a, a_labels, image_pixels, num)\n",
    "        validation_knn_labels.append(label)"
   ],
   "metadata": {
    "collapsed": false,
    "pycharm": {
     "name": "#%%\n"
    }
   }
  },
  {
   "cell_type": "code",
   "execution_count": 68,
   "outputs": [],
   "source": [
    "f = open(\"knn_first_try_12.txt\",\"w\")\n",
    "f.write(\"id,label\\n\")\n",
    "i = 0\n",
    "for nume_img in test_data.id :\n",
    "    f.write(f\"{nume_img},{validation_knn_labels[i]}\\n\")\n",
    "    i += 1"
   ],
   "metadata": {
    "collapsed": false,
    "pycharm": {
     "name": "#%%\n"
    }
   }
  },
  {
   "cell_type": "code",
   "execution_count": null,
   "outputs": [],
   "source": [],
   "metadata": {
    "collapsed": false,
    "pycharm": {
     "name": "#%%\n"
    }
   }
  }
 ],
 "metadata": {
  "kernelspec": {
   "display_name": "Python 3",
   "language": "python",
   "name": "python3"
  },
  "language_info": {
   "codemirror_mode": {
    "name": "ipython",
    "version": 2
   },
   "file_extension": ".py",
   "mimetype": "text/x-python",
   "name": "python",
   "nbconvert_exporter": "python",
   "pygments_lexer": "ipython2",
   "version": "2.7.6"
  }
 },
 "nbformat": 4,
 "nbformat_minor": 0
}
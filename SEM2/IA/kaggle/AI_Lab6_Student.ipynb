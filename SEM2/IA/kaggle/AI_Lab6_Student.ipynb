{
 "cells": [
  {
   "cell_type": "markdown",
   "id": "ac4e5b4c",
   "metadata": {},
   "source": [
    "# Inteligenta Artificiala - Laboratorul 6\n",
    "# Perceptronul. Retele de perceptroni"
   ]
  },
  {
   "cell_type": "markdown",
   "id": "a5a112ab",
   "metadata": {},
   "source": [
    "### Imports"
   ]
  },
  {
   "cell_type": "code",
   "execution_count": 1,
   "id": "2a6fdb3c",
   "metadata": {},
   "outputs": [],
   "source": [
    "%matplotlib inline\n",
    "import pylab as pl\n",
    "import time\n",
    "\n",
    "import numpy as np\n",
    "import matplotlib.pyplot as plt\n",
    "\n",
    "from IPython import display\n",
    "\n",
    "np.random.seed(42)"
   ]
  },
  {
   "cell_type": "markdown",
   "id": "f5b846b4",
   "metadata": {},
   "source": [
    "# Exercitii"
   ]
  },
  {
   "cell_type": "markdown",
   "id": "a6c6d52b",
   "metadata": {},
   "source": [
    "## Exercitiul 2"
   ]
  },
  {
   "cell_type": "code",
   "execution_count": 2,
   "id": "1c9d8990",
   "metadata": {},
   "outputs": [],
   "source": [
    "def compute_y(x, W, bias):\n",
    "    # dreapta de decizie\n",
    "    # [x, y] * [W[0], W[1]] + b = 0 \n",
    "    return (-x*W[0] - bias) / (W[1] + 1e-10)"
   ]
  },
  {
   "cell_type": "code",
   "execution_count": 3,
   "id": "5f0d05d3",
   "metadata": {},
   "outputs": [],
   "source": [
    "def plot_decision_boundary(X, y , W, b, current_x, current_y, epoch, step, all_steps):\n",
    "    x1 = -0.5\n",
    "    y1 = compute_y(x1, W, b)\n",
    "    x2 = 1.\n",
    "    y2 = compute_y(x2, W, b)\n",
    "    # sterge continutul ferestrei\n",
    "    plt.clf()\n",
    "    # ploteaza multimea de antrenare\n",
    "    color = 'r'\n",
    "    if(current_y == -1):\n",
    "        color = 'b'\n",
    "    plt.ylim((-1, 2))\n",
    "    plt.xlim((-1, 2))\n",
    "    \n",
    "    plt.plot(X[y == -1, 0], X[y == -1, 1], 'b+')\n",
    "    plt.plot(X[y == 1, 0], X[y == 1, 1], 'r+')\n",
    "    # ploteaza exemplul curent\n",
    "    plt.plot(current_x[0], current_x[1], color+'s')\n",
    "    # afisarea dreptei de decizie\n",
    "    plt.plot([x1, x2] ,[y1, y2], 'black')\n",
    "#     plt.show(block=False)\n",
    "#     plt.pause(0.3)\n",
    "\n",
    "    plt.title(f\"epoch: {epoch} - step {step+1}/{all_steps}\")\n",
    "    display.clear_output(wait=True)\n",
    "    display.display(pl.gcf())\n",
    "    time.sleep(0.3)"
   ]
  },
  {
   "cell_type": "markdown",
   "id": "f162c9da",
   "metadata": {},
   "source": [
    "#### 0. Initializeaza hyperparametrii"
   ]
  },
  {
   "cell_type": "code",
   "execution_count": 4,
   "id": "c6941a39",
   "metadata": {},
   "outputs": [],
   "source": [
    "epochs = 70  # Numarul total de epoci\n",
    "eta = 0.1  # Learning rate-ul\n",
    "\n",
    "rng = np.random.default_rng()  # Folosit pentru shuffle"
   ]
  },
  {
   "cell_type": "markdown",
   "id": "84d6a988",
   "metadata": {},
   "source": [
    "#### 1. Initializeaza datele"
   ]
  },
  {
   "cell_type": "code",
   "execution_count": 5,
   "id": "19c3215b",
   "metadata": {},
   "outputs": [],
   "source": [
    "X = np.array([\n",
    "    [0., 0.],\n",
    "    [0., 1.],\n",
    "    [1., 0.],\n",
    "    [1., 1.]\n",
    "])\n",
    "\n",
    "y = np.array([-1, 1, 1, 1])"
   ]
  },
  {
   "cell_type": "markdown",
   "id": "253d079b",
   "metadata": {},
   "source": [
    "#### 2. Initializeaza ponderile"
   ]
  },
  {
   "cell_type": "code",
   "execution_count": 6,
   "id": "39323673",
   "metadata": {},
   "outputs": [],
   "source": [
    "W = np.zeros(shape=(X.shape[-1]), dtype=np.float32)\n",
    "b = np.array([0.])"
   ]
  },
  {
   "cell_type": "markdown",
   "id": "8e0730e8",
   "metadata": {},
   "source": [
    "#### 3. Antrenarea perceptronului"
   ]
  },
  {
   "cell_type": "code",
   "execution_count": null,
   "id": "d4215dba",
   "metadata": {},
   "outputs": [],
   "source": [
    "shuffle_index = np.arange(len(X))\n",
    "\n",
    "for epoch in range(epochs):\n",
    "    # Data shuffle\n",
    "    rng.shuffle(shuffle_index)\n",
    "    X = X[shuffle_index]\n",
    "    y = y[shuffle_index]\n",
    "    \n",
    "    # Pentru fiecare exemplu x_t din X (i.e. data)\n",
    "    for t in range(len(X)):\n",
    "        # Calculeaza predictia\n",
    "        y_hat = X[t] @ W + b\n",
    "        \n",
    "        # Calculeaza eroarea pentru exemplul x_t\n",
    "        loss = (y_hat - y[t])**2 / 2.\n",
    "        \n",
    "        # Actualizeaza ponderile\n",
    "        W = W - eta*(y_hat - y[t])*X[t]\n",
    "        \n",
    "        # Actualizeaza bias-ul\n",
    "        b = b - eta*(y_hat - y[t])\n",
    "        \n",
    "        # Arata dreapta de decizie\n",
    "        plot_decision_boundary(X, y , W, b, X[t], y[t], epoch, t, len(X))"
   ]
  },
  {
   "cell_type": "markdown",
   "id": "141d7db2",
   "metadata": {},
   "source": [
    "#### 4. Calculeaza acuratetea"
   ]
  },
  {
   "cell_type": "code",
   "execution_count": null,
   "id": "d1b01e1b",
   "metadata": {},
   "outputs": [],
   "source": [
    "preds = []\n",
    "for sample in X:\n",
    "    pred = np.sign(sample @ W + b)\n",
    "    preds.append(pred)\n",
    "\n",
    "preds = np.concatenate(preds)\n",
    "acc = (y == preds).mean()\n",
    "print(f\"Accuracy is {acc*100:.2f}%\")"
   ]
  },
  {
   "cell_type": "markdown",
   "id": "fb783e35",
   "metadata": {},
   "source": [
    "## Exercitiul 3"
   ]
  },
  {
   "cell_type": "code",
   "execution_count": null,
   "id": "a715ad29",
   "metadata": {},
   "outputs": [],
   "source": [
    "# Hint: Vezi rezolvarea exercitiului 2"
   ]
  },
  {
   "cell_type": "markdown",
   "id": "8223d2b6",
   "metadata": {},
   "source": [
    "## Exercitiul 4"
   ]
  },
  {
   "cell_type": "markdown",
   "id": "acd99e75",
   "metadata": {},
   "source": [
    "## Helper function"
   ]
  },
  {
   "cell_type": "code",
   "execution_count": null,
   "id": "83459050",
   "metadata": {},
   "outputs": [],
   "source": [
    "def plot_decision(X_, W_1, W_2, b_1, b_2, epoch, loss, acc):\n",
    "    # sterge continutul ferestrei\n",
    "    plt.clf()\n",
    "    # ploteaza multimea de antrenare\n",
    "    plt.ylim((-0.5, 1.5))\n",
    "    plt.xlim((-0.5, 1.5))\n",
    "    xx = np.random.normal(0, 1, (100000))\n",
    "    yy = np.random.normal(0, 1, (100000))\n",
    "    X = np.array([xx, yy]).transpose()\n",
    "    X = np.concatenate((X, X_))\n",
    "    _, _, _, output = forward(X, W_1, b_1, W_2, b_2)\n",
    "    y = np.squeeze(np.round(output))\n",
    "    plt.plot(X[y == 0, 0],X[y == 0, 1], 'bo')\n",
    "    plt.plot(X[y == 1, 0], X[y == 1, 1], 'ro')\n",
    "#     plt.show(block=False)\n",
    "#     plt.pause(0.1)\n",
    "\n",
    "    plt.title(f\"epoch: {epoch}, loss: {loss:.4f}, acc: {acc*100:.2f}%\")\n",
    "    display.clear_output(wait=True)\n",
    "    display.display(pl.gcf())\n",
    "    time.sleep(0.3)"
   ]
  },
  {
   "cell_type": "markdown",
   "id": "75dc8bbb",
   "metadata": {},
   "source": [
    "### 0. Initializeaza hyperparametrii"
   ]
  },
  {
   "cell_type": "code",
   "execution_count": null,
   "id": "8d3726a9",
   "metadata": {},
   "outputs": [],
   "source": [
    "epochs = 70\n",
    "lr = 0.5\n",
    "miu = 0.\n",
    "sigma = 1.\n",
    "num_hidden_neurons = 5"
   ]
  },
  {
   "cell_type": "markdown",
   "id": "dc51441c",
   "metadata": {},
   "source": [
    "### 1. Initializeaza ponderile retelei"
   ]
  },
  {
   "cell_type": "code",
   "execution_count": null,
   "id": "0a7591a5",
   "metadata": {},
   "outputs": [],
   "source": [
    "W_1 = # TODO\n",
    "b_1 = # TODO\n",
    "\n",
    "W_2 = # TODO\n",
    "b_2 = # TODO"
   ]
  },
  {
   "cell_type": "markdown",
   "id": "c5d67216",
   "metadata": {},
   "source": [
    "### 2. Scrie metoda `forward` a retelei"
   ]
  },
  {
   "cell_type": "markdown",
   "id": "8f2b38c4",
   "metadata": {},
   "source": [
    "#### 2.1. Defineste metoda `tanh`"
   ]
  },
  {
   "cell_type": "code",
   "execution_count": null,
   "id": "1318574f",
   "metadata": {},
   "outputs": [],
   "source": [
    "def tanh(x):\n",
    "    return None"
   ]
  },
  {
   "cell_type": "markdown",
   "id": "29bedeb2",
   "metadata": {},
   "source": [
    "#### 2.2 Defineste metoda `sigmoid`"
   ]
  },
  {
   "cell_type": "code",
   "execution_count": null,
   "id": "c255c54a",
   "metadata": {},
   "outputs": [],
   "source": [
    "def sigmoid(x):\n",
    "    return None"
   ]
  },
  {
   "cell_type": "markdown",
   "id": "c6ea161a",
   "metadata": {},
   "source": [
    "#### 2.3. Implementeaza metoda `forward`"
   ]
  },
  {
   "cell_type": "code",
   "execution_count": null,
   "id": "3b230f0c",
   "metadata": {},
   "outputs": [],
   "source": [
    "def forward(X, W_1, b_1, W_2, b_2):\n",
    "    z_1 = None\n",
    "    a_1 = None\n",
    "    \n",
    "    z_2 = None\n",
    "    a_2 = None\n",
    "    \n",
    "    return z_1, a_1, z_2, a_2"
   ]
  },
  {
   "cell_type": "markdown",
   "id": "6659d3dc",
   "metadata": {},
   "source": [
    "### 3. Defineste metoda `backward` a retelei"
   ]
  },
  {
   "cell_type": "markdown",
   "id": "2859bfe3",
   "metadata": {},
   "source": [
    "#### 3.1. Defineste metoda `tanh_derivative`"
   ]
  },
  {
   "cell_type": "code",
   "execution_count": null,
   "id": "56536ba0",
   "metadata": {},
   "outputs": [],
   "source": [
    "def tanh_derivative(x):\n",
    "    return None"
   ]
  },
  {
   "cell_type": "markdown",
   "id": "ee115777",
   "metadata": {},
   "source": [
    "#### 3.2. Implementeaza metoda `forward`"
   ]
  },
  {
   "cell_type": "code",
   "execution_count": null,
   "id": "4e67a059",
   "metadata": {},
   "outputs": [],
   "source": [
    "def backward(a_1, a_2, z_1, W_2, X, Y, num_samples):\n",
    "    dz_2 = None\n",
    "    \n",
    "    dw_2 = None\n",
    "    db_2 = None\n",
    "    \n",
    "    da_1 = None\n",
    "    dz_1 = None\n",
    "    \n",
    "    dw_1 = None\n",
    "    db_1 = None\n",
    "    \n",
    "    return dw_1, db_1, dw_2, db_2"
   ]
  },
  {
   "cell_type": "markdown",
   "id": "d1498b62",
   "metadata": {},
   "source": [
    "### 4. Initializeaza datele"
   ]
  },
  {
   "cell_type": "code",
   "execution_count": null,
   "id": "02b85fc2",
   "metadata": {},
   "outputs": [],
   "source": [
    "X = np.array([\n",
    "    [0., 0.],\n",
    "    [0., 1.],\n",
    "    [1., 0.],\n",
    "    [1., 1.]\n",
    "])\n",
    "\n",
    "y = np.array([0, 1, 1, 0])[:, None]"
   ]
  },
  {
   "cell_type": "markdown",
   "id": "c06c79b9",
   "metadata": {},
   "source": [
    "### 5. Antrenarea retelei"
   ]
  },
  {
   "cell_type": "code",
   "execution_count": null,
   "id": "1213ef63",
   "metadata": {},
   "outputs": [],
   "source": [
    "for epoch in range(epochs):\n",
    "    # 2. Pasul forward\n",
    "    z_1, a_1, z_2, a_2 = forward(X, W_1, b_1, W_2, b_2)\n",
    "    \n",
    "    # 3. Eroarea si accuratetea\n",
    "    loss = (-y * np.log(a_2) - (1 - y) * np.log(1 - a_2)).mean()\n",
    "    accuracy = (np.round(a_2) == y).mean()\n",
    "    \n",
    "    # 4. Pas-ul backward\n",
    "    dw_1, db_1, dw_2, db_2 = backward(a_1, a_2, z_1, W_2, X, y, len(X))\n",
    "    \n",
    "    # 5. Actualizarea ponderilor\n",
    "    W_1 -= lr * dw_1\n",
    "    b_1 -= lr * db_1\n",
    "    W_2 -= lr * dw_2\n",
    "    b_2 -= lr * db_2\n",
    "    \n",
    "    # Arata granita de decizie\n",
    "    plot_decision(X, W_1, W_2, b_1, b_2, epoch, loss, acc)"
   ]
  }
 ],
 "metadata": {
  "kernelspec": {
   "display_name": "Python 3 (ipykernel)",
   "language": "python",
   "name": "python3"
  },
  "language_info": {
   "codemirror_mode": {
    "name": "ipython",
    "version": 3
   },
   "file_extension": ".py",
   "mimetype": "text/x-python",
   "name": "python",
   "nbconvert_exporter": "python",
   "pygments_lexer": "ipython3",
   "version": "3.8.12"
  }
 },
 "nbformat": 4,
 "nbformat_minor": 5
}
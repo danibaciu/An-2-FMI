{
 "cells": [
  {
   "cell_type": "code",
   "execution_count": 1,
   "outputs": [],
   "source": [
    "import torch\n",
    "import torch.nn as nn"
   ],
   "metadata": {
    "collapsed": false,
    "pycharm": {
     "name": "#%%\n"
    }
   }
  },
  {
   "cell_type": "code",
   "execution_count": 11,
   "outputs": [],
   "source": [
    "class NumberModel(nn.Module):\n",
    "    def __init__(self):\n",
    "        super().__init__()\n",
    "\n",
    "        self.layer1 = nn.Sequential(\n",
    "            nn.Conv2d(in_channels=3, out_channels=64, kernel_size=3, stride=2, padding=1),\n",
    "            nn.BatchNorm2d(num_features=64),\n",
    "            nn.ReLU()\n",
    "        )\n",
    "        self.layer2 = nn.Sequential(\n",
    "            nn.Conv2d(in_channels=64, out_channels=128, kernel_size=3, stride=2, padding=1),\n",
    "            nn.BatchNorm2d(num_features=128),\n",
    "            nn.ReLU(),\n",
    "            nn.MaxPool2d(2,2),\n",
    "        )\n",
    "\n",
    "        self.final = nn.Linear(in_features=512, out_features=128) #avem doar 2 label-uri\n",
    "        self.final2 = nn.Linear(in_features=128, out_features=7)\n",
    "\n",
    "    def forward(self,x):\n",
    "        # x.shape = (3, 224, 224)\n",
    "        # Convolutia fiind valida, face si downsize\n",
    "        x = self.layer1(x)\n",
    "        #print(f\"Shape dupa layer1: {x.shape}\")\n",
    "        x = self.layer2(x)\n",
    "\n",
    "        #print(f\"Shape dupa layer2: {x.shape}\")\n",
    "        #x=self.layer3(x)\n",
    "        #print(f\"Shape dupa layer3: {x.shape}\")\n",
    "\n",
    "        x = torch.flatten(x, start_dim=1)\n",
    "        x = self.final(x)\n",
    "        x= self.final2(x)\n",
    "\n",
    "        return x"
   ],
   "metadata": {
    "collapsed": false,
    "pycharm": {
     "name": "#%%\n"
    }
   }
  },
  {
   "cell_type": "code",
   "execution_count": 12,
   "outputs": [
    {
     "data": {
      "text/plain": "tensor([[ 0.2552,  0.6171,  0.5736,  0.0079,  0.5569, -0.6880,  0.3596],\n        [ 0.4348,  0.2235,  0.3651,  0.6253,  0.2948, -0.2007,  0.2081],\n        [ 0.2209,  0.4091,  0.1144, -0.2529,  0.5298, -0.3944,  0.7630],\n        [ 0.4448,  0.3974,  0.4289,  0.0366,  0.3950, -0.8258,  0.0534],\n        [ 0.5883,  0.5636,  0.1697,  0.0527,  0.4761, -0.4827,  0.5366],\n        [ 0.3788,  0.2825,  0.5259,  0.3264,  0.5698, -0.5932,  0.5290],\n        [ 0.2835,  0.4152,  0.6940, -0.1405,  0.6509, -0.5541,  0.9925],\n        [ 0.4961,  0.2327,  0.7430,  0.6505,  0.5592, -0.2705,  0.5849],\n        [ 0.3354,  0.4078,  0.3540,  0.3117,  0.5069, -0.9281,  0.4894],\n        [ 0.2522,  0.5437,  0.3952,  0.6255,  0.7621, -0.8497,  0.7211]],\n       grad_fn=<AddmmBackward0>)"
     },
     "execution_count": 12,
     "metadata": {},
     "output_type": "execute_result"
    }
   ],
   "source": [
    "x = torch.rand(size=(10, 3, 16, 16))\n",
    "model = NumberModel()\n",
    "\n",
    "    # Debug purpuse\n",
    "model(x)"
   ],
   "metadata": {
    "collapsed": false,
    "pycharm": {
     "name": "#%%\n"
    }
   }
  },
  {
   "cell_type": "code",
   "execution_count": null,
   "outputs": [],
   "source": [],
   "metadata": {
    "collapsed": false,
    "pycharm": {
     "name": "#%%\n"
    }
   }
  }
 ],
 "metadata": {
  "kernelspec": {
   "display_name": "Python 3",
   "language": "python",
   "name": "python3"
  },
  "language_info": {
   "codemirror_mode": {
    "name": "ipython",
    "version": 2
   },
   "file_extension": ".py",
   "mimetype": "text/x-python",
   "name": "python",
   "nbconvert_exporter": "python",
   "pygments_lexer": "ipython2",
   "version": "2.7.6"
  }
 },
 "nbformat": 4,
 "nbformat_minor": 0
}
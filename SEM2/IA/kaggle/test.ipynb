{
 "cells": [
  {
   "cell_type": "code",
   "execution_count": 34,
   "metadata": {
    "collapsed": true
   },
   "outputs": [],
   "source": [
    "import numpy as np\n",
    "import pandas as pd\n",
    "\n",
    "from PIL import Image\n",
    "from sklearn.neighbors import KNeighborsClassifier\n",
    "#https://scikit-learn.org/stable/modules/generated/sklearn.neighbors.KNeighborsClassifier.html\n",
    "from sklearn.svm import SVC\n",
    "#https://scikit-learn.org/stable/modules/generated/sklearn.svm.SVC.html"
   ]
  },
  {
   "cell_type": "code",
   "execution_count": 15,
   "outputs": [],
   "source": [
    "train_data = pd.read_csv(\"./data/train1.txt\")\n",
    "validation_data = pd.read_csv(\"./data/validation1.txt\")"
   ],
   "metadata": {
    "collapsed": false,
    "pycharm": {
     "name": "#%%\n"
    }
   }
  },
  {
   "cell_type": "code",
   "execution_count": 5,
   "outputs": [
    {
     "data": {
      "text/plain": "                    id  label\n1  tFoGtQbI1M2cqAQ.png      1\n2  fSfXhs3ZnmoMf2U.png      1\n3  ONjeEbTLHAt41JL.png      4\n4  ERUZFIFntfyer1B.png      2",
      "text/html": "<div>\n<style scoped>\n    .dataframe tbody tr th:only-of-type {\n        vertical-align: middle;\n    }\n\n    .dataframe tbody tr th {\n        vertical-align: top;\n    }\n\n    .dataframe thead th {\n        text-align: right;\n    }\n</style>\n<table border=\"1\" class=\"dataframe\">\n  <thead>\n    <tr style=\"text-align: right;\">\n      <th></th>\n      <th>id</th>\n      <th>label</th>\n    </tr>\n  </thead>\n  <tbody>\n    <tr>\n      <th>1</th>\n      <td>tFoGtQbI1M2cqAQ.png</td>\n      <td>1</td>\n    </tr>\n    <tr>\n      <th>2</th>\n      <td>fSfXhs3ZnmoMf2U.png</td>\n      <td>1</td>\n    </tr>\n    <tr>\n      <th>3</th>\n      <td>ONjeEbTLHAt41JL.png</td>\n      <td>4</td>\n    </tr>\n    <tr>\n      <th>4</th>\n      <td>ERUZFIFntfyer1B.png</td>\n      <td>2</td>\n    </tr>\n  </tbody>\n</table>\n</div>"
     },
     "execution_count": 5,
     "metadata": {},
     "output_type": "execute_result"
    }
   ],
   "source": [
    "train_data[1:5]"
   ],
   "metadata": {
    "collapsed": false,
    "pycharm": {
     "name": "#%%\n"
    }
   }
  },
  {
   "cell_type": "code",
   "execution_count": 7,
   "outputs": [
    {
     "data": {
      "text/plain": "'ONjeEbTLHAt41JL.png'"
     },
     "execution_count": 7,
     "metadata": {},
     "output_type": "execute_result"
    }
   ],
   "source": [
    "img1 = train_data.id[3]\n",
    "img1"
   ],
   "metadata": {
    "collapsed": false,
    "pycharm": {
     "name": "#%%\n"
    }
   }
  },
  {
   "cell_type": "code",
   "execution_count": 11,
   "outputs": [
    {
     "data": {
      "text/plain": "(768,)"
     },
     "execution_count": 11,
     "metadata": {},
     "output_type": "execute_result"
    }
   ],
   "source": [
    "img_pixels = np.array(Image.open(\"./data/train_validation/\" + img1).getdata()).reshape((768))\n",
    "img_pixels.shape"
   ],
   "metadata": {
    "collapsed": false,
    "pycharm": {
     "name": "#%%\n"
    }
   }
  },
  {
   "cell_type": "code",
   "execution_count": 16,
   "outputs": [],
   "source": [
    "# faci for img name in train_data.id :\n",
    "# dai load la imagini\n",
    "#salvezi intr un vector mare\n",
    "train_images = []\n",
    "\n",
    "for img_name in train_data.id:\n",
    "    img_pixels = np.array(Image.open(\"./data/train_validation/\" + img_name).getdata()).reshape((768))\n",
    "    train_images.append(img_pixels)\n",
    "\n",
    "train_images = np.array(train_images)\n",
    "\n",
    "validation_images = []\n",
    "\n",
    "for img_name in validation_data.id:\n",
    "    img_pixels = np.array(Image.open(\"./data/train_validation/\" + img_name).getdata()).reshape((768))\n",
    "    validation_images.append(img_pixels)\n",
    "\n",
    "validation_images = np.array(validation_images)"
   ],
   "metadata": {
    "collapsed": false,
    "pycharm": {
     "name": "#%%\n"
    }
   }
  },
  {
   "cell_type": "code",
   "execution_count": 17,
   "outputs": [
    {
     "data": {
      "text/plain": "(1173, 768)"
     },
     "execution_count": 17,
     "metadata": {},
     "output_type": "execute_result"
    }
   ],
   "source": [
    "# standardizezi datele si faci train ori cu standard scaler (de pe net) ori faci tu media si deviatia standard\n",
    "# STANDARDIZAT IMAGINI\n",
    "validation_images.shape"
   ],
   "metadata": {
    "collapsed": false,
    "pycharm": {
     "name": "#%%\n"
    }
   }
  },
  {
   "cell_type": "code",
   "execution_count": 32,
   "outputs": [],
   "source": [
    "model = KNeighborsClassifier(n_neighbors=23)\n",
    "\n",
    "model.fit(train_images, np.array(train_data.label))\n",
    "\n",
    "labels = model.predict(validation_images)"
   ],
   "metadata": {
    "collapsed": false,
    "pycharm": {
     "name": "#%%\n"
    }
   }
  },
  {
   "cell_type": "code",
   "execution_count": 33,
   "outputs": [
    {
     "data": {
      "text/plain": "0.44671781756180734"
     },
     "execution_count": 33,
     "metadata": {},
     "output_type": "execute_result"
    }
   ],
   "source": [
    "(labels == np.array(validation_data.label)).mean()"
   ],
   "metadata": {
    "collapsed": false,
    "pycharm": {
     "name": "#%%\n"
    }
   }
  },
  {
   "cell_type": "code",
   "execution_count": null,
   "outputs": [],
   "source": [
    "#---------------------------------------------------------"
   ],
   "metadata": {
    "collapsed": false,
    "pycharm": {
     "name": "#%%\n"
    }
   }
  },
  {
   "cell_type": "code",
   "execution_count": 35,
   "outputs": [],
   "source": [
    "model_2 = SVC(C=1.5)\n",
    "\n",
    "model_2.fit(train_images, np.array(train_data.label))\n",
    "\n",
    "labels = model_2.predict(validation_images)"
   ],
   "metadata": {
    "collapsed": false,
    "pycharm": {
     "name": "#%%\n"
    }
   }
  },
  {
   "cell_type": "code",
   "execution_count": 36,
   "outputs": [
    {
     "data": {
      "text/plain": "0.5532821824381927"
     },
     "execution_count": 36,
     "metadata": {},
     "output_type": "execute_result"
    }
   ],
   "source": [
    "(labels == np.array(validation_data.label)).mean()"
   ],
   "metadata": {
    "collapsed": false,
    "pycharm": {
     "name": "#%%\n"
    }
   }
  },
  {
   "cell_type": "code",
   "execution_count": 37,
   "outputs": [
    {
     "name": "stdout",
     "output_type": "stream",
     "text": [
      "acuratetea pt nr vecini=3 este 0.4057971014492754\n",
      "acuratetea pt nr vecini=5 este 0.4254049445865303\n",
      "acuratetea pt nr vecini=8 este 0.4254049445865303\n",
      "acuratetea pt nr vecini=12 este 0.4339300937766411\n",
      "acuratetea pt nr vecini=17 este 0.4398976982097187\n"
     ]
    }
   ],
   "source": [
    "for nr_vecini in [3, 5, 8, 12, 17] :\n",
    "    model = KNeighborsClassifier(n_neighbors=nr_vecini)\n",
    "\n",
    "    model.fit(train_images, np.array(train_data.label))\n",
    "\n",
    "    labels = model.predict(validation_images)\n",
    "\n",
    "    print(f\"acuratetea pt nr vecini={nr_vecini} este {(labels == np.array(validation_data.label)).mean()}\")\n"
   ],
   "metadata": {
    "collapsed": false,
    "pycharm": {
     "name": "#%%\n"
    }
   }
  },
  {
   "cell_type": "code",
   "execution_count": null,
   "outputs": [],
   "source": [
    "model = KNeighborsClassifier(n_neighbors=17)\n",
    "\n",
    "model.fit(train_images, np.array(train_data.label))\n",
    "\n",
    "labels = model.predict(test_images)"
   ],
   "metadata": {
    "collapsed": false,
    "pycharm": {
     "name": "#%%\n"
    }
   }
  },
  {
   "cell_type": "code",
   "execution_count": null,
   "outputs": [],
   "source": [],
   "metadata": {
    "collapsed": false,
    "pycharm": {
     "name": "#%%\n"
    }
   }
  }
 ],
 "metadata": {
  "kernelspec": {
   "display_name": "Python 3",
   "language": "python",
   "name": "python3"
  },
  "language_info": {
   "codemirror_mode": {
    "name": "ipython",
    "version": 2
   },
   "file_extension": ".py",
   "mimetype": "text/x-python",
   "name": "python",
   "nbconvert_exporter": "python",
   "pygments_lexer": "ipython2",
   "version": "2.7.6"
  }
 },
 "nbformat": 4,
 "nbformat_minor": 0
}